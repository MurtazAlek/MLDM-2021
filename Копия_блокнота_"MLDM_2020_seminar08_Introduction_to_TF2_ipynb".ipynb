{
  "nbformat": 4,
  "nbformat_minor": 0,
  "metadata": {
    "colab": {
      "name": "Копия блокнота \"MLDM-2020-seminar08-Introduction-to-TF2.ipynb\"",
      "provenance": [],
      "collapsed_sections": [],
      "toc_visible": true,
      "include_colab_link": true
    },
    "kernelspec": {
      "name": "python3",
      "display_name": "Python 3"
    },
    "accelerator": "GPU",
    "widgets": {
      "application/vnd.jupyter.widget-state+json": {
        "c4cb188f13f64c398fc1c17adbdb969d": {
          "model_module": "@jupyter-widgets/controls",
          "model_name": "HBoxModel",
          "model_module_version": "1.5.0",
          "state": {
            "_view_name": "HBoxView",
            "_dom_classes": [],
            "_model_name": "HBoxModel",
            "_view_module": "@jupyter-widgets/controls",
            "_model_module_version": "1.5.0",
            "_view_count": null,
            "_view_module_version": "1.5.0",
            "box_style": "",
            "layout": "IPY_MODEL_73783641c18e460bbc22374ab9e1535b",
            "_model_module": "@jupyter-widgets/controls",
            "children": [
              "IPY_MODEL_1b9a96a729f547848e5983cb58e2e9fb",
              "IPY_MODEL_fb4b192c7bd34c76b19464d75c32ddef",
              "IPY_MODEL_d06e4cea2a62413e82c45a43897b1a20"
            ]
          }
        },
        "73783641c18e460bbc22374ab9e1535b": {
          "model_module": "@jupyter-widgets/base",
          "model_name": "LayoutModel",
          "model_module_version": "1.2.0",
          "state": {
            "_view_name": "LayoutView",
            "grid_template_rows": null,
            "right": null,
            "justify_content": null,
            "_view_module": "@jupyter-widgets/base",
            "overflow": null,
            "_model_module_version": "1.2.0",
            "_view_count": null,
            "flex_flow": null,
            "width": null,
            "min_width": null,
            "border": null,
            "align_items": null,
            "bottom": null,
            "_model_module": "@jupyter-widgets/base",
            "top": null,
            "grid_column": null,
            "overflow_y": null,
            "overflow_x": null,
            "grid_auto_flow": null,
            "grid_area": null,
            "grid_template_columns": null,
            "flex": null,
            "_model_name": "LayoutModel",
            "justify_items": null,
            "grid_row": null,
            "max_height": null,
            "align_content": null,
            "visibility": null,
            "align_self": null,
            "height": null,
            "min_height": null,
            "padding": null,
            "grid_auto_rows": null,
            "grid_gap": null,
            "max_width": null,
            "order": null,
            "_view_module_version": "1.2.0",
            "grid_template_areas": null,
            "object_position": null,
            "object_fit": null,
            "grid_auto_columns": null,
            "margin": null,
            "display": null,
            "left": null
          }
        },
        "1b9a96a729f547848e5983cb58e2e9fb": {
          "model_module": "@jupyter-widgets/controls",
          "model_name": "HTMLModel",
          "model_module_version": "1.5.0",
          "state": {
            "_view_name": "HTMLView",
            "style": "IPY_MODEL_f61169413f5c4b6aa5f8a2045f663069",
            "_dom_classes": [],
            "description": "",
            "_model_name": "HTMLModel",
            "placeholder": "​",
            "_view_module": "@jupyter-widgets/controls",
            "_model_module_version": "1.5.0",
            "value": "Dl Completed...: 100%",
            "_view_count": null,
            "_view_module_version": "1.5.0",
            "description_tooltip": null,
            "_model_module": "@jupyter-widgets/controls",
            "layout": "IPY_MODEL_a1d653e4973d470d887619057f8fc786"
          }
        },
        "fb4b192c7bd34c76b19464d75c32ddef": {
          "model_module": "@jupyter-widgets/controls",
          "model_name": "FloatProgressModel",
          "model_module_version": "1.5.0",
          "state": {
            "_view_name": "ProgressView",
            "style": "IPY_MODEL_d64d68f1f9c54605b002dcf78a8c7a5a",
            "_dom_classes": [],
            "description": "",
            "_model_name": "FloatProgressModel",
            "bar_style": "success",
            "max": 1,
            "_view_module": "@jupyter-widgets/controls",
            "_model_module_version": "1.5.0",
            "value": 1,
            "_view_count": null,
            "_view_module_version": "1.5.0",
            "orientation": "horizontal",
            "min": 0,
            "description_tooltip": null,
            "_model_module": "@jupyter-widgets/controls",
            "layout": "IPY_MODEL_f9367ac7a2bb44069e30ed1e65a8c6e4"
          }
        },
        "d06e4cea2a62413e82c45a43897b1a20": {
          "model_module": "@jupyter-widgets/controls",
          "model_name": "HTMLModel",
          "model_module_version": "1.5.0",
          "state": {
            "_view_name": "HTMLView",
            "style": "IPY_MODEL_3c3f4db23a904af495800d94846e2a38",
            "_dom_classes": [],
            "description": "",
            "_model_name": "HTMLModel",
            "placeholder": "​",
            "_view_module": "@jupyter-widgets/controls",
            "_model_module_version": "1.5.0",
            "value": " 4/4 [00:03&lt;00:00,  1.38 url/s]",
            "_view_count": null,
            "_view_module_version": "1.5.0",
            "description_tooltip": null,
            "_model_module": "@jupyter-widgets/controls",
            "layout": "IPY_MODEL_42d2ac987aa240e6bc14b75324d5c57a"
          }
        },
        "f61169413f5c4b6aa5f8a2045f663069": {
          "model_module": "@jupyter-widgets/controls",
          "model_name": "DescriptionStyleModel",
          "model_module_version": "1.5.0",
          "state": {
            "_view_name": "StyleView",
            "_model_name": "DescriptionStyleModel",
            "description_width": "",
            "_view_module": "@jupyter-widgets/base",
            "_model_module_version": "1.5.0",
            "_view_count": null,
            "_view_module_version": "1.2.0",
            "_model_module": "@jupyter-widgets/controls"
          }
        },
        "a1d653e4973d470d887619057f8fc786": {
          "model_module": "@jupyter-widgets/base",
          "model_name": "LayoutModel",
          "model_module_version": "1.2.0",
          "state": {
            "_view_name": "LayoutView",
            "grid_template_rows": null,
            "right": null,
            "justify_content": null,
            "_view_module": "@jupyter-widgets/base",
            "overflow": null,
            "_model_module_version": "1.2.0",
            "_view_count": null,
            "flex_flow": null,
            "width": null,
            "min_width": null,
            "border": null,
            "align_items": null,
            "bottom": null,
            "_model_module": "@jupyter-widgets/base",
            "top": null,
            "grid_column": null,
            "overflow_y": null,
            "overflow_x": null,
            "grid_auto_flow": null,
            "grid_area": null,
            "grid_template_columns": null,
            "flex": null,
            "_model_name": "LayoutModel",
            "justify_items": null,
            "grid_row": null,
            "max_height": null,
            "align_content": null,
            "visibility": null,
            "align_self": null,
            "height": null,
            "min_height": null,
            "padding": null,
            "grid_auto_rows": null,
            "grid_gap": null,
            "max_width": null,
            "order": null,
            "_view_module_version": "1.2.0",
            "grid_template_areas": null,
            "object_position": null,
            "object_fit": null,
            "grid_auto_columns": null,
            "margin": null,
            "display": null,
            "left": null
          }
        },
        "d64d68f1f9c54605b002dcf78a8c7a5a": {
          "model_module": "@jupyter-widgets/controls",
          "model_name": "ProgressStyleModel",
          "model_module_version": "1.5.0",
          "state": {
            "_view_name": "StyleView",
            "_model_name": "ProgressStyleModel",
            "description_width": "",
            "_view_module": "@jupyter-widgets/base",
            "_model_module_version": "1.5.0",
            "_view_count": null,
            "_view_module_version": "1.2.0",
            "bar_color": null,
            "_model_module": "@jupyter-widgets/controls"
          }
        },
        "f9367ac7a2bb44069e30ed1e65a8c6e4": {
          "model_module": "@jupyter-widgets/base",
          "model_name": "LayoutModel",
          "model_module_version": "1.2.0",
          "state": {
            "_view_name": "LayoutView",
            "grid_template_rows": null,
            "right": null,
            "justify_content": null,
            "_view_module": "@jupyter-widgets/base",
            "overflow": null,
            "_model_module_version": "1.2.0",
            "_view_count": null,
            "flex_flow": null,
            "width": "20px",
            "min_width": null,
            "border": null,
            "align_items": null,
            "bottom": null,
            "_model_module": "@jupyter-widgets/base",
            "top": null,
            "grid_column": null,
            "overflow_y": null,
            "overflow_x": null,
            "grid_auto_flow": null,
            "grid_area": null,
            "grid_template_columns": null,
            "flex": null,
            "_model_name": "LayoutModel",
            "justify_items": null,
            "grid_row": null,
            "max_height": null,
            "align_content": null,
            "visibility": null,
            "align_self": null,
            "height": null,
            "min_height": null,
            "padding": null,
            "grid_auto_rows": null,
            "grid_gap": null,
            "max_width": null,
            "order": null,
            "_view_module_version": "1.2.0",
            "grid_template_areas": null,
            "object_position": null,
            "object_fit": null,
            "grid_auto_columns": null,
            "margin": null,
            "display": null,
            "left": null
          }
        },
        "3c3f4db23a904af495800d94846e2a38": {
          "model_module": "@jupyter-widgets/controls",
          "model_name": "DescriptionStyleModel",
          "model_module_version": "1.5.0",
          "state": {
            "_view_name": "StyleView",
            "_model_name": "DescriptionStyleModel",
            "description_width": "",
            "_view_module": "@jupyter-widgets/base",
            "_model_module_version": "1.5.0",
            "_view_count": null,
            "_view_module_version": "1.2.0",
            "_model_module": "@jupyter-widgets/controls"
          }
        },
        "42d2ac987aa240e6bc14b75324d5c57a": {
          "model_module": "@jupyter-widgets/base",
          "model_name": "LayoutModel",
          "model_module_version": "1.2.0",
          "state": {
            "_view_name": "LayoutView",
            "grid_template_rows": null,
            "right": null,
            "justify_content": null,
            "_view_module": "@jupyter-widgets/base",
            "overflow": null,
            "_model_module_version": "1.2.0",
            "_view_count": null,
            "flex_flow": null,
            "width": null,
            "min_width": null,
            "border": null,
            "align_items": null,
            "bottom": null,
            "_model_module": "@jupyter-widgets/base",
            "top": null,
            "grid_column": null,
            "overflow_y": null,
            "overflow_x": null,
            "grid_auto_flow": null,
            "grid_area": null,
            "grid_template_columns": null,
            "flex": null,
            "_model_name": "LayoutModel",
            "justify_items": null,
            "grid_row": null,
            "max_height": null,
            "align_content": null,
            "visibility": null,
            "align_self": null,
            "height": null,
            "min_height": null,
            "padding": null,
            "grid_auto_rows": null,
            "grid_gap": null,
            "max_width": null,
            "order": null,
            "_view_module_version": "1.2.0",
            "grid_template_areas": null,
            "object_position": null,
            "object_fit": null,
            "grid_auto_columns": null,
            "margin": null,
            "display": null,
            "left": null
          }
        },
        "53ed5af989da402db8adafa5d09cdaba": {
          "model_module": "@jupyter-widgets/controls",
          "model_name": "HBoxModel",
          "model_module_version": "1.5.0",
          "state": {
            "_view_name": "HBoxView",
            "_dom_classes": [],
            "_model_name": "HBoxModel",
            "_view_module": "@jupyter-widgets/controls",
            "_model_module_version": "1.5.0",
            "_view_count": null,
            "_view_module_version": "1.5.0",
            "box_style": "",
            "layout": "IPY_MODEL_1c71038e7b0643b38caff1370bfa9a60",
            "_model_module": "@jupyter-widgets/controls",
            "children": [
              "IPY_MODEL_1c65499b69204f3f92edc602064f286c",
              "IPY_MODEL_a7ed15711959410eb351c519eb4c1798",
              "IPY_MODEL_4cbeea702855486faf4fa4dc1aea0864"
            ]
          }
        },
        "1c71038e7b0643b38caff1370bfa9a60": {
          "model_module": "@jupyter-widgets/base",
          "model_name": "LayoutModel",
          "model_module_version": "1.2.0",
          "state": {
            "_view_name": "LayoutView",
            "grid_template_rows": null,
            "right": null,
            "justify_content": null,
            "_view_module": "@jupyter-widgets/base",
            "overflow": null,
            "_model_module_version": "1.2.0",
            "_view_count": null,
            "flex_flow": null,
            "width": null,
            "min_width": null,
            "border": null,
            "align_items": null,
            "bottom": null,
            "_model_module": "@jupyter-widgets/base",
            "top": null,
            "grid_column": null,
            "overflow_y": null,
            "overflow_x": null,
            "grid_auto_flow": null,
            "grid_area": null,
            "grid_template_columns": null,
            "flex": null,
            "_model_name": "LayoutModel",
            "justify_items": null,
            "grid_row": null,
            "max_height": null,
            "align_content": null,
            "visibility": null,
            "align_self": null,
            "height": null,
            "min_height": null,
            "padding": null,
            "grid_auto_rows": null,
            "grid_gap": null,
            "max_width": null,
            "order": null,
            "_view_module_version": "1.2.0",
            "grid_template_areas": null,
            "object_position": null,
            "object_fit": null,
            "grid_auto_columns": null,
            "margin": null,
            "display": null,
            "left": null
          }
        },
        "1c65499b69204f3f92edc602064f286c": {
          "model_module": "@jupyter-widgets/controls",
          "model_name": "HTMLModel",
          "model_module_version": "1.5.0",
          "state": {
            "_view_name": "HTMLView",
            "style": "IPY_MODEL_12ecde1b01324ae8a9f6202d8570debb",
            "_dom_classes": [],
            "description": "",
            "_model_name": "HTMLModel",
            "placeholder": "​",
            "_view_module": "@jupyter-widgets/controls",
            "_model_module_version": "1.5.0",
            "value": "Dl Size...: 100%",
            "_view_count": null,
            "_view_module_version": "1.5.0",
            "description_tooltip": null,
            "_model_module": "@jupyter-widgets/controls",
            "layout": "IPY_MODEL_aa3fd03df4f14340b941da2ccfdb278d"
          }
        },
        "a7ed15711959410eb351c519eb4c1798": {
          "model_module": "@jupyter-widgets/controls",
          "model_name": "FloatProgressModel",
          "model_module_version": "1.5.0",
          "state": {
            "_view_name": "ProgressView",
            "style": "IPY_MODEL_9761227bba92419d9c6aeb4459b4cf61",
            "_dom_classes": [],
            "description": "",
            "_model_name": "FloatProgressModel",
            "bar_style": "success",
            "max": 1,
            "_view_module": "@jupyter-widgets/controls",
            "_model_module_version": "1.5.0",
            "value": 1,
            "_view_count": null,
            "_view_module_version": "1.5.0",
            "orientation": "horizontal",
            "min": 0,
            "description_tooltip": null,
            "_model_module": "@jupyter-widgets/controls",
            "layout": "IPY_MODEL_45c00e6c42c747fc8bfead6f7f346395"
          }
        },
        "4cbeea702855486faf4fa4dc1aea0864": {
          "model_module": "@jupyter-widgets/controls",
          "model_name": "HTMLModel",
          "model_module_version": "1.5.0",
          "state": {
            "_view_name": "HTMLView",
            "style": "IPY_MODEL_5f3e3bd5783d46fdb486ed6b11f880a6",
            "_dom_classes": [],
            "description": "",
            "_model_name": "HTMLModel",
            "placeholder": "​",
            "_view_module": "@jupyter-widgets/controls",
            "_model_module_version": "1.5.0",
            "value": " 29/29 [00:03&lt;00:00, 20.16 MiB/s]",
            "_view_count": null,
            "_view_module_version": "1.5.0",
            "description_tooltip": null,
            "_model_module": "@jupyter-widgets/controls",
            "layout": "IPY_MODEL_451916e89fdb4c5c806a398c97b4a60c"
          }
        },
        "12ecde1b01324ae8a9f6202d8570debb": {
          "model_module": "@jupyter-widgets/controls",
          "model_name": "DescriptionStyleModel",
          "model_module_version": "1.5.0",
          "state": {
            "_view_name": "StyleView",
            "_model_name": "DescriptionStyleModel",
            "description_width": "",
            "_view_module": "@jupyter-widgets/base",
            "_model_module_version": "1.5.0",
            "_view_count": null,
            "_view_module_version": "1.2.0",
            "_model_module": "@jupyter-widgets/controls"
          }
        },
        "aa3fd03df4f14340b941da2ccfdb278d": {
          "model_module": "@jupyter-widgets/base",
          "model_name": "LayoutModel",
          "model_module_version": "1.2.0",
          "state": {
            "_view_name": "LayoutView",
            "grid_template_rows": null,
            "right": null,
            "justify_content": null,
            "_view_module": "@jupyter-widgets/base",
            "overflow": null,
            "_model_module_version": "1.2.0",
            "_view_count": null,
            "flex_flow": null,
            "width": null,
            "min_width": null,
            "border": null,
            "align_items": null,
            "bottom": null,
            "_model_module": "@jupyter-widgets/base",
            "top": null,
            "grid_column": null,
            "overflow_y": null,
            "overflow_x": null,
            "grid_auto_flow": null,
            "grid_area": null,
            "grid_template_columns": null,
            "flex": null,
            "_model_name": "LayoutModel",
            "justify_items": null,
            "grid_row": null,
            "max_height": null,
            "align_content": null,
            "visibility": null,
            "align_self": null,
            "height": null,
            "min_height": null,
            "padding": null,
            "grid_auto_rows": null,
            "grid_gap": null,
            "max_width": null,
            "order": null,
            "_view_module_version": "1.2.0",
            "grid_template_areas": null,
            "object_position": null,
            "object_fit": null,
            "grid_auto_columns": null,
            "margin": null,
            "display": null,
            "left": null
          }
        },
        "9761227bba92419d9c6aeb4459b4cf61": {
          "model_module": "@jupyter-widgets/controls",
          "model_name": "ProgressStyleModel",
          "model_module_version": "1.5.0",
          "state": {
            "_view_name": "StyleView",
            "_model_name": "ProgressStyleModel",
            "description_width": "",
            "_view_module": "@jupyter-widgets/base",
            "_model_module_version": "1.5.0",
            "_view_count": null,
            "_view_module_version": "1.2.0",
            "bar_color": null,
            "_model_module": "@jupyter-widgets/controls"
          }
        },
        "45c00e6c42c747fc8bfead6f7f346395": {
          "model_module": "@jupyter-widgets/base",
          "model_name": "LayoutModel",
          "model_module_version": "1.2.0",
          "state": {
            "_view_name": "LayoutView",
            "grid_template_rows": null,
            "right": null,
            "justify_content": null,
            "_view_module": "@jupyter-widgets/base",
            "overflow": null,
            "_model_module_version": "1.2.0",
            "_view_count": null,
            "flex_flow": null,
            "width": "20px",
            "min_width": null,
            "border": null,
            "align_items": null,
            "bottom": null,
            "_model_module": "@jupyter-widgets/base",
            "top": null,
            "grid_column": null,
            "overflow_y": null,
            "overflow_x": null,
            "grid_auto_flow": null,
            "grid_area": null,
            "grid_template_columns": null,
            "flex": null,
            "_model_name": "LayoutModel",
            "justify_items": null,
            "grid_row": null,
            "max_height": null,
            "align_content": null,
            "visibility": null,
            "align_self": null,
            "height": null,
            "min_height": null,
            "padding": null,
            "grid_auto_rows": null,
            "grid_gap": null,
            "max_width": null,
            "order": null,
            "_view_module_version": "1.2.0",
            "grid_template_areas": null,
            "object_position": null,
            "object_fit": null,
            "grid_auto_columns": null,
            "margin": null,
            "display": null,
            "left": null
          }
        },
        "5f3e3bd5783d46fdb486ed6b11f880a6": {
          "model_module": "@jupyter-widgets/controls",
          "model_name": "DescriptionStyleModel",
          "model_module_version": "1.5.0",
          "state": {
            "_view_name": "StyleView",
            "_model_name": "DescriptionStyleModel",
            "description_width": "",
            "_view_module": "@jupyter-widgets/base",
            "_model_module_version": "1.5.0",
            "_view_count": null,
            "_view_module_version": "1.2.0",
            "_model_module": "@jupyter-widgets/controls"
          }
        },
        "451916e89fdb4c5c806a398c97b4a60c": {
          "model_module": "@jupyter-widgets/base",
          "model_name": "LayoutModel",
          "model_module_version": "1.2.0",
          "state": {
            "_view_name": "LayoutView",
            "grid_template_rows": null,
            "right": null,
            "justify_content": null,
            "_view_module": "@jupyter-widgets/base",
            "overflow": null,
            "_model_module_version": "1.2.0",
            "_view_count": null,
            "flex_flow": null,
            "width": null,
            "min_width": null,
            "border": null,
            "align_items": null,
            "bottom": null,
            "_model_module": "@jupyter-widgets/base",
            "top": null,
            "grid_column": null,
            "overflow_y": null,
            "overflow_x": null,
            "grid_auto_flow": null,
            "grid_area": null,
            "grid_template_columns": null,
            "flex": null,
            "_model_name": "LayoutModel",
            "justify_items": null,
            "grid_row": null,
            "max_height": null,
            "align_content": null,
            "visibility": null,
            "align_self": null,
            "height": null,
            "min_height": null,
            "padding": null,
            "grid_auto_rows": null,
            "grid_gap": null,
            "max_width": null,
            "order": null,
            "_view_module_version": "1.2.0",
            "grid_template_areas": null,
            "object_position": null,
            "object_fit": null,
            "grid_auto_columns": null,
            "margin": null,
            "display": null,
            "left": null
          }
        },
        "78b8957eece14e00ba31d92409f921cf": {
          "model_module": "@jupyter-widgets/controls",
          "model_name": "HBoxModel",
          "model_module_version": "1.5.0",
          "state": {
            "_view_name": "HBoxView",
            "_dom_classes": [],
            "_model_name": "HBoxModel",
            "_view_module": "@jupyter-widgets/controls",
            "_model_module_version": "1.5.0",
            "_view_count": null,
            "_view_module_version": "1.5.0",
            "box_style": "",
            "layout": "IPY_MODEL_9f59b6c2662442a0b2a8629478abf41e",
            "_model_module": "@jupyter-widgets/controls",
            "children": [
              "IPY_MODEL_9d682a755995494a8d67ab5e09941899",
              "IPY_MODEL_185a91db25b3420d8435cd9af954fc5e",
              "IPY_MODEL_9ad10d3dc2c442858736ba6d1a9fd916"
            ]
          }
        },
        "9f59b6c2662442a0b2a8629478abf41e": {
          "model_module": "@jupyter-widgets/base",
          "model_name": "LayoutModel",
          "model_module_version": "1.2.0",
          "state": {
            "_view_name": "LayoutView",
            "grid_template_rows": null,
            "right": null,
            "justify_content": null,
            "_view_module": "@jupyter-widgets/base",
            "overflow": null,
            "_model_module_version": "1.2.0",
            "_view_count": null,
            "flex_flow": null,
            "width": null,
            "min_width": null,
            "border": null,
            "align_items": null,
            "bottom": null,
            "_model_module": "@jupyter-widgets/base",
            "top": null,
            "grid_column": null,
            "overflow_y": null,
            "overflow_x": null,
            "grid_auto_flow": null,
            "grid_area": null,
            "grid_template_columns": null,
            "flex": null,
            "_model_name": "LayoutModel",
            "justify_items": null,
            "grid_row": null,
            "max_height": null,
            "align_content": null,
            "visibility": null,
            "align_self": null,
            "height": null,
            "min_height": null,
            "padding": null,
            "grid_auto_rows": null,
            "grid_gap": null,
            "max_width": null,
            "order": null,
            "_view_module_version": "1.2.0",
            "grid_template_areas": null,
            "object_position": null,
            "object_fit": null,
            "grid_auto_columns": null,
            "margin": null,
            "display": null,
            "left": null
          }
        },
        "9d682a755995494a8d67ab5e09941899": {
          "model_module": "@jupyter-widgets/controls",
          "model_name": "HTMLModel",
          "model_module_version": "1.5.0",
          "state": {
            "_view_name": "HTMLView",
            "style": "IPY_MODEL_1f70066ca28544f7a929125a1f0ac113",
            "_dom_classes": [],
            "description": "",
            "_model_name": "HTMLModel",
            "placeholder": "​",
            "_view_module": "@jupyter-widgets/controls",
            "_model_module_version": "1.5.0",
            "value": "Extraction completed...: 100%",
            "_view_count": null,
            "_view_module_version": "1.5.0",
            "description_tooltip": null,
            "_model_module": "@jupyter-widgets/controls",
            "layout": "IPY_MODEL_3df7b05dd0654e8cb2842c882b1b442e"
          }
        },
        "185a91db25b3420d8435cd9af954fc5e": {
          "model_module": "@jupyter-widgets/controls",
          "model_name": "FloatProgressModel",
          "model_module_version": "1.5.0",
          "state": {
            "_view_name": "ProgressView",
            "style": "IPY_MODEL_e273e861198e46e49a8e2003d60df724",
            "_dom_classes": [],
            "description": "",
            "_model_name": "FloatProgressModel",
            "bar_style": "success",
            "max": 1,
            "_view_module": "@jupyter-widgets/controls",
            "_model_module_version": "1.5.0",
            "value": 1,
            "_view_count": null,
            "_view_module_version": "1.5.0",
            "orientation": "horizontal",
            "min": 0,
            "description_tooltip": null,
            "_model_module": "@jupyter-widgets/controls",
            "layout": "IPY_MODEL_00603da05e774072a2736e60a0036e93"
          }
        },
        "9ad10d3dc2c442858736ba6d1a9fd916": {
          "model_module": "@jupyter-widgets/controls",
          "model_name": "HTMLModel",
          "model_module_version": "1.5.0",
          "state": {
            "_view_name": "HTMLView",
            "style": "IPY_MODEL_570d545e06ba4934ad868c7208473f4a",
            "_dom_classes": [],
            "description": "",
            "_model_name": "HTMLModel",
            "placeholder": "​",
            "_view_module": "@jupyter-widgets/controls",
            "_model_module_version": "1.5.0",
            "value": " 4/4 [00:02&lt;00:00,  1.12 file/s]",
            "_view_count": null,
            "_view_module_version": "1.5.0",
            "description_tooltip": null,
            "_model_module": "@jupyter-widgets/controls",
            "layout": "IPY_MODEL_ae8784a2f44f462aaf0ece7c267238ce"
          }
        },
        "1f70066ca28544f7a929125a1f0ac113": {
          "model_module": "@jupyter-widgets/controls",
          "model_name": "DescriptionStyleModel",
          "model_module_version": "1.5.0",
          "state": {
            "_view_name": "StyleView",
            "_model_name": "DescriptionStyleModel",
            "description_width": "",
            "_view_module": "@jupyter-widgets/base",
            "_model_module_version": "1.5.0",
            "_view_count": null,
            "_view_module_version": "1.2.0",
            "_model_module": "@jupyter-widgets/controls"
          }
        },
        "3df7b05dd0654e8cb2842c882b1b442e": {
          "model_module": "@jupyter-widgets/base",
          "model_name": "LayoutModel",
          "model_module_version": "1.2.0",
          "state": {
            "_view_name": "LayoutView",
            "grid_template_rows": null,
            "right": null,
            "justify_content": null,
            "_view_module": "@jupyter-widgets/base",
            "overflow": null,
            "_model_module_version": "1.2.0",
            "_view_count": null,
            "flex_flow": null,
            "width": null,
            "min_width": null,
            "border": null,
            "align_items": null,
            "bottom": null,
            "_model_module": "@jupyter-widgets/base",
            "top": null,
            "grid_column": null,
            "overflow_y": null,
            "overflow_x": null,
            "grid_auto_flow": null,
            "grid_area": null,
            "grid_template_columns": null,
            "flex": null,
            "_model_name": "LayoutModel",
            "justify_items": null,
            "grid_row": null,
            "max_height": null,
            "align_content": null,
            "visibility": null,
            "align_self": null,
            "height": null,
            "min_height": null,
            "padding": null,
            "grid_auto_rows": null,
            "grid_gap": null,
            "max_width": null,
            "order": null,
            "_view_module_version": "1.2.0",
            "grid_template_areas": null,
            "object_position": null,
            "object_fit": null,
            "grid_auto_columns": null,
            "margin": null,
            "display": null,
            "left": null
          }
        },
        "e273e861198e46e49a8e2003d60df724": {
          "model_module": "@jupyter-widgets/controls",
          "model_name": "ProgressStyleModel",
          "model_module_version": "1.5.0",
          "state": {
            "_view_name": "StyleView",
            "_model_name": "ProgressStyleModel",
            "description_width": "",
            "_view_module": "@jupyter-widgets/base",
            "_model_module_version": "1.5.0",
            "_view_count": null,
            "_view_module_version": "1.2.0",
            "bar_color": null,
            "_model_module": "@jupyter-widgets/controls"
          }
        },
        "00603da05e774072a2736e60a0036e93": {
          "model_module": "@jupyter-widgets/base",
          "model_name": "LayoutModel",
          "model_module_version": "1.2.0",
          "state": {
            "_view_name": "LayoutView",
            "grid_template_rows": null,
            "right": null,
            "justify_content": null,
            "_view_module": "@jupyter-widgets/base",
            "overflow": null,
            "_model_module_version": "1.2.0",
            "_view_count": null,
            "flex_flow": null,
            "width": "20px",
            "min_width": null,
            "border": null,
            "align_items": null,
            "bottom": null,
            "_model_module": "@jupyter-widgets/base",
            "top": null,
            "grid_column": null,
            "overflow_y": null,
            "overflow_x": null,
            "grid_auto_flow": null,
            "grid_area": null,
            "grid_template_columns": null,
            "flex": null,
            "_model_name": "LayoutModel",
            "justify_items": null,
            "grid_row": null,
            "max_height": null,
            "align_content": null,
            "visibility": null,
            "align_self": null,
            "height": null,
            "min_height": null,
            "padding": null,
            "grid_auto_rows": null,
            "grid_gap": null,
            "max_width": null,
            "order": null,
            "_view_module_version": "1.2.0",
            "grid_template_areas": null,
            "object_position": null,
            "object_fit": null,
            "grid_auto_columns": null,
            "margin": null,
            "display": null,
            "left": null
          }
        },
        "570d545e06ba4934ad868c7208473f4a": {
          "model_module": "@jupyter-widgets/controls",
          "model_name": "DescriptionStyleModel",
          "model_module_version": "1.5.0",
          "state": {
            "_view_name": "StyleView",
            "_model_name": "DescriptionStyleModel",
            "description_width": "",
            "_view_module": "@jupyter-widgets/base",
            "_model_module_version": "1.5.0",
            "_view_count": null,
            "_view_module_version": "1.2.0",
            "_model_module": "@jupyter-widgets/controls"
          }
        },
        "ae8784a2f44f462aaf0ece7c267238ce": {
          "model_module": "@jupyter-widgets/base",
          "model_name": "LayoutModel",
          "model_module_version": "1.2.0",
          "state": {
            "_view_name": "LayoutView",
            "grid_template_rows": null,
            "right": null,
            "justify_content": null,
            "_view_module": "@jupyter-widgets/base",
            "overflow": null,
            "_model_module_version": "1.2.0",
            "_view_count": null,
            "flex_flow": null,
            "width": null,
            "min_width": null,
            "border": null,
            "align_items": null,
            "bottom": null,
            "_model_module": "@jupyter-widgets/base",
            "top": null,
            "grid_column": null,
            "overflow_y": null,
            "overflow_x": null,
            "grid_auto_flow": null,
            "grid_area": null,
            "grid_template_columns": null,
            "flex": null,
            "_model_name": "LayoutModel",
            "justify_items": null,
            "grid_row": null,
            "max_height": null,
            "align_content": null,
            "visibility": null,
            "align_self": null,
            "height": null,
            "min_height": null,
            "padding": null,
            "grid_auto_rows": null,
            "grid_gap": null,
            "max_width": null,
            "order": null,
            "_view_module_version": "1.2.0",
            "grid_template_areas": null,
            "object_position": null,
            "object_fit": null,
            "grid_auto_columns": null,
            "margin": null,
            "display": null,
            "left": null
          }
        },
        "e94e96f383f7455fa8a8a0d151aa413c": {
          "model_module": "@jupyter-widgets/controls",
          "model_name": "HBoxModel",
          "model_module_version": "1.5.0",
          "state": {
            "_view_name": "HBoxView",
            "_dom_classes": [],
            "_model_name": "HBoxModel",
            "_view_module": "@jupyter-widgets/controls",
            "_model_module_version": "1.5.0",
            "_view_count": null,
            "_view_module_version": "1.5.0",
            "box_style": "",
            "layout": "IPY_MODEL_b31569bef68147a8be769a94161c089e",
            "_model_module": "@jupyter-widgets/controls",
            "children": [
              "IPY_MODEL_2d19742cdd7f4cc89684b90fde866853",
              "IPY_MODEL_8bd7224b10de406f8d118000a50cef99",
              "IPY_MODEL_df76e8254ea14054834279cc06c0cdf2"
            ]
          }
        },
        "b31569bef68147a8be769a94161c089e": {
          "model_module": "@jupyter-widgets/base",
          "model_name": "LayoutModel",
          "model_module_version": "1.2.0",
          "state": {
            "_view_name": "LayoutView",
            "grid_template_rows": null,
            "right": null,
            "justify_content": null,
            "_view_module": "@jupyter-widgets/base",
            "overflow": null,
            "_model_module_version": "1.2.0",
            "_view_count": null,
            "flex_flow": null,
            "width": null,
            "min_width": null,
            "border": null,
            "align_items": null,
            "bottom": null,
            "_model_module": "@jupyter-widgets/base",
            "top": null,
            "grid_column": null,
            "overflow_y": null,
            "overflow_x": null,
            "grid_auto_flow": null,
            "grid_area": null,
            "grid_template_columns": null,
            "flex": null,
            "_model_name": "LayoutModel",
            "justify_items": null,
            "grid_row": null,
            "max_height": null,
            "align_content": null,
            "visibility": null,
            "align_self": null,
            "height": null,
            "min_height": null,
            "padding": null,
            "grid_auto_rows": null,
            "grid_gap": null,
            "max_width": null,
            "order": null,
            "_view_module_version": "1.2.0",
            "grid_template_areas": null,
            "object_position": null,
            "object_fit": null,
            "grid_auto_columns": null,
            "margin": null,
            "display": null,
            "left": null
          }
        },
        "2d19742cdd7f4cc89684b90fde866853": {
          "model_module": "@jupyter-widgets/controls",
          "model_name": "HTMLModel",
          "model_module_version": "1.5.0",
          "state": {
            "_view_name": "HTMLView",
            "style": "IPY_MODEL_dfbad8433224456dbfa57848d0c0e6a7",
            "_dom_classes": [],
            "description": "",
            "_model_name": "HTMLModel",
            "placeholder": "​",
            "_view_module": "@jupyter-widgets/controls",
            "_model_module_version": "1.5.0",
            "value": "",
            "_view_count": null,
            "_view_module_version": "1.5.0",
            "description_tooltip": null,
            "_model_module": "@jupyter-widgets/controls",
            "layout": "IPY_MODEL_86d71a66d76d448e9bf90d9c3fea560f"
          }
        },
        "8bd7224b10de406f8d118000a50cef99": {
          "model_module": "@jupyter-widgets/controls",
          "model_name": "FloatProgressModel",
          "model_module_version": "1.5.0",
          "state": {
            "_view_name": "ProgressView",
            "style": "IPY_MODEL_6c05bb42fd4d4b829ef51e0ded894536",
            "_dom_classes": [],
            "description": "",
            "_model_name": "FloatProgressModel",
            "bar_style": "info",
            "max": 1,
            "_view_module": "@jupyter-widgets/controls",
            "_model_module_version": "1.5.0",
            "value": 1,
            "_view_count": null,
            "_view_module_version": "1.5.0",
            "orientation": "horizontal",
            "min": 0,
            "description_tooltip": null,
            "_model_module": "@jupyter-widgets/controls",
            "layout": "IPY_MODEL_54d4becd9642400386b3973927a0cc9f"
          }
        },
        "df76e8254ea14054834279cc06c0cdf2": {
          "model_module": "@jupyter-widgets/controls",
          "model_name": "HTMLModel",
          "model_module_version": "1.5.0",
          "state": {
            "_view_name": "HTMLView",
            "style": "IPY_MODEL_d0454a3124794960937fc8d1076ec145",
            "_dom_classes": [],
            "description": "",
            "_model_name": "HTMLModel",
            "placeholder": "​",
            "_view_module": "@jupyter-widgets/controls",
            "_model_module_version": "1.5.0",
            "value": " 59960/0 [00:58&lt;00:00, 1066.63 examples/s]",
            "_view_count": null,
            "_view_module_version": "1.5.0",
            "description_tooltip": null,
            "_model_module": "@jupyter-widgets/controls",
            "layout": "IPY_MODEL_009ab6f54a9e421fb02360c1e858d14c"
          }
        },
        "dfbad8433224456dbfa57848d0c0e6a7": {
          "model_module": "@jupyter-widgets/controls",
          "model_name": "DescriptionStyleModel",
          "model_module_version": "1.5.0",
          "state": {
            "_view_name": "StyleView",
            "_model_name": "DescriptionStyleModel",
            "description_width": "",
            "_view_module": "@jupyter-widgets/base",
            "_model_module_version": "1.5.0",
            "_view_count": null,
            "_view_module_version": "1.2.0",
            "_model_module": "@jupyter-widgets/controls"
          }
        },
        "86d71a66d76d448e9bf90d9c3fea560f": {
          "model_module": "@jupyter-widgets/base",
          "model_name": "LayoutModel",
          "model_module_version": "1.2.0",
          "state": {
            "_view_name": "LayoutView",
            "grid_template_rows": null,
            "right": null,
            "justify_content": null,
            "_view_module": "@jupyter-widgets/base",
            "overflow": null,
            "_model_module_version": "1.2.0",
            "_view_count": null,
            "flex_flow": null,
            "width": null,
            "min_width": null,
            "border": null,
            "align_items": null,
            "bottom": null,
            "_model_module": "@jupyter-widgets/base",
            "top": null,
            "grid_column": null,
            "overflow_y": null,
            "overflow_x": null,
            "grid_auto_flow": null,
            "grid_area": null,
            "grid_template_columns": null,
            "flex": null,
            "_model_name": "LayoutModel",
            "justify_items": null,
            "grid_row": null,
            "max_height": null,
            "align_content": null,
            "visibility": null,
            "align_self": null,
            "height": null,
            "min_height": null,
            "padding": null,
            "grid_auto_rows": null,
            "grid_gap": null,
            "max_width": null,
            "order": null,
            "_view_module_version": "1.2.0",
            "grid_template_areas": null,
            "object_position": null,
            "object_fit": null,
            "grid_auto_columns": null,
            "margin": null,
            "display": null,
            "left": null
          }
        },
        "6c05bb42fd4d4b829ef51e0ded894536": {
          "model_module": "@jupyter-widgets/controls",
          "model_name": "ProgressStyleModel",
          "model_module_version": "1.5.0",
          "state": {
            "_view_name": "StyleView",
            "_model_name": "ProgressStyleModel",
            "description_width": "",
            "_view_module": "@jupyter-widgets/base",
            "_model_module_version": "1.5.0",
            "_view_count": null,
            "_view_module_version": "1.2.0",
            "bar_color": null,
            "_model_module": "@jupyter-widgets/controls"
          }
        },
        "54d4becd9642400386b3973927a0cc9f": {
          "model_module": "@jupyter-widgets/base",
          "model_name": "LayoutModel",
          "model_module_version": "1.2.0",
          "state": {
            "_view_name": "LayoutView",
            "grid_template_rows": null,
            "right": null,
            "justify_content": null,
            "_view_module": "@jupyter-widgets/base",
            "overflow": null,
            "_model_module_version": "1.2.0",
            "_view_count": null,
            "flex_flow": null,
            "width": "20px",
            "min_width": null,
            "border": null,
            "align_items": null,
            "bottom": null,
            "_model_module": "@jupyter-widgets/base",
            "top": null,
            "grid_column": null,
            "overflow_y": null,
            "overflow_x": null,
            "grid_auto_flow": null,
            "grid_area": null,
            "grid_template_columns": null,
            "flex": null,
            "_model_name": "LayoutModel",
            "justify_items": null,
            "grid_row": null,
            "max_height": null,
            "align_content": null,
            "visibility": null,
            "align_self": null,
            "height": null,
            "min_height": null,
            "padding": null,
            "grid_auto_rows": null,
            "grid_gap": null,
            "max_width": null,
            "order": null,
            "_view_module_version": "1.2.0",
            "grid_template_areas": null,
            "object_position": null,
            "object_fit": null,
            "grid_auto_columns": null,
            "margin": null,
            "display": null,
            "left": null
          }
        },
        "d0454a3124794960937fc8d1076ec145": {
          "model_module": "@jupyter-widgets/controls",
          "model_name": "DescriptionStyleModel",
          "model_module_version": "1.5.0",
          "state": {
            "_view_name": "StyleView",
            "_model_name": "DescriptionStyleModel",
            "description_width": "",
            "_view_module": "@jupyter-widgets/base",
            "_model_module_version": "1.5.0",
            "_view_count": null,
            "_view_module_version": "1.2.0",
            "_model_module": "@jupyter-widgets/controls"
          }
        },
        "009ab6f54a9e421fb02360c1e858d14c": {
          "model_module": "@jupyter-widgets/base",
          "model_name": "LayoutModel",
          "model_module_version": "1.2.0",
          "state": {
            "_view_name": "LayoutView",
            "grid_template_rows": null,
            "right": null,
            "justify_content": null,
            "_view_module": "@jupyter-widgets/base",
            "overflow": null,
            "_model_module_version": "1.2.0",
            "_view_count": null,
            "flex_flow": null,
            "width": null,
            "min_width": null,
            "border": null,
            "align_items": null,
            "bottom": null,
            "_model_module": "@jupyter-widgets/base",
            "top": null,
            "grid_column": null,
            "overflow_y": null,
            "overflow_x": null,
            "grid_auto_flow": null,
            "grid_area": null,
            "grid_template_columns": null,
            "flex": null,
            "_model_name": "LayoutModel",
            "justify_items": null,
            "grid_row": null,
            "max_height": null,
            "align_content": null,
            "visibility": null,
            "align_self": null,
            "height": null,
            "min_height": null,
            "padding": null,
            "grid_auto_rows": null,
            "grid_gap": null,
            "max_width": null,
            "order": null,
            "_view_module_version": "1.2.0",
            "grid_template_areas": null,
            "object_position": null,
            "object_fit": null,
            "grid_auto_columns": null,
            "margin": null,
            "display": null,
            "left": null
          }
        },
        "5d345cf1fd0e48dc9b8c9a7e4bc7a399": {
          "model_module": "@jupyter-widgets/controls",
          "model_name": "HBoxModel",
          "model_module_version": "1.5.0",
          "state": {
            "_view_name": "HBoxView",
            "_dom_classes": [],
            "_model_name": "HBoxModel",
            "_view_module": "@jupyter-widgets/controls",
            "_model_module_version": "1.5.0",
            "_view_count": null,
            "_view_module_version": "1.5.0",
            "box_style": "",
            "layout": "IPY_MODEL_66cbe37170354ea9916662bc713bc6a0",
            "_model_module": "@jupyter-widgets/controls",
            "children": [
              "IPY_MODEL_befc36d3ef26474a897defdc41a00a0c",
              "IPY_MODEL_d3296e43dff24304a127c9d9b881be0a",
              "IPY_MODEL_9cb43d09deae4464abca8240785da38a"
            ]
          }
        },
        "66cbe37170354ea9916662bc713bc6a0": {
          "model_module": "@jupyter-widgets/base",
          "model_name": "LayoutModel",
          "model_module_version": "1.2.0",
          "state": {
            "_view_name": "LayoutView",
            "grid_template_rows": null,
            "right": null,
            "justify_content": null,
            "_view_module": "@jupyter-widgets/base",
            "overflow": null,
            "_model_module_version": "1.2.0",
            "_view_count": null,
            "flex_flow": null,
            "width": null,
            "min_width": null,
            "border": null,
            "align_items": null,
            "bottom": null,
            "_model_module": "@jupyter-widgets/base",
            "top": null,
            "grid_column": null,
            "overflow_y": null,
            "overflow_x": null,
            "grid_auto_flow": null,
            "grid_area": null,
            "grid_template_columns": null,
            "flex": null,
            "_model_name": "LayoutModel",
            "justify_items": null,
            "grid_row": null,
            "max_height": null,
            "align_content": null,
            "visibility": null,
            "align_self": null,
            "height": null,
            "min_height": null,
            "padding": null,
            "grid_auto_rows": null,
            "grid_gap": null,
            "max_width": null,
            "order": null,
            "_view_module_version": "1.2.0",
            "grid_template_areas": null,
            "object_position": null,
            "object_fit": null,
            "grid_auto_columns": null,
            "margin": null,
            "display": null,
            "left": null
          }
        },
        "befc36d3ef26474a897defdc41a00a0c": {
          "model_module": "@jupyter-widgets/controls",
          "model_name": "HTMLModel",
          "model_module_version": "1.5.0",
          "state": {
            "_view_name": "HTMLView",
            "style": "IPY_MODEL_8d0353116c414c398a247ee4d3d22a53",
            "_dom_classes": [],
            "description": "",
            "_model_name": "HTMLModel",
            "placeholder": "​",
            "_view_module": "@jupyter-widgets/controls",
            "_model_module_version": "1.5.0",
            "value": "100%",
            "_view_count": null,
            "_view_module_version": "1.5.0",
            "description_tooltip": null,
            "_model_module": "@jupyter-widgets/controls",
            "layout": "IPY_MODEL_2847b8a0074a42c0909cf2f9e6d2dc7c"
          }
        },
        "d3296e43dff24304a127c9d9b881be0a": {
          "model_module": "@jupyter-widgets/controls",
          "model_name": "FloatProgressModel",
          "model_module_version": "1.5.0",
          "state": {
            "_view_name": "ProgressView",
            "style": "IPY_MODEL_ef0ae55009884c9fb556236458bda89b",
            "_dom_classes": [],
            "description": "",
            "_model_name": "FloatProgressModel",
            "bar_style": "danger",
            "max": 60000,
            "_view_module": "@jupyter-widgets/controls",
            "_model_module_version": "1.5.0",
            "value": 59999,
            "_view_count": null,
            "_view_module_version": "1.5.0",
            "orientation": "horizontal",
            "min": 0,
            "description_tooltip": null,
            "_model_module": "@jupyter-widgets/controls",
            "layout": "IPY_MODEL_d4c51e969f824134a879f20a65b2afbf"
          }
        },
        "9cb43d09deae4464abca8240785da38a": {
          "model_module": "@jupyter-widgets/controls",
          "model_name": "HTMLModel",
          "model_module_version": "1.5.0",
          "state": {
            "_view_name": "HTMLView",
            "style": "IPY_MODEL_588f8bb90d7a4d53bc1ac1e8f4b4b8df",
            "_dom_classes": [],
            "description": "",
            "_model_name": "HTMLModel",
            "placeholder": "​",
            "_view_module": "@jupyter-widgets/controls",
            "_model_module_version": "1.5.0",
            "value": " 59999/60000 [00:00&lt;00:00, 175513.72 examples/s]",
            "_view_count": null,
            "_view_module_version": "1.5.0",
            "description_tooltip": null,
            "_model_module": "@jupyter-widgets/controls",
            "layout": "IPY_MODEL_ff37fe05ae9545bd9a9b6e6539eadd6e"
          }
        },
        "8d0353116c414c398a247ee4d3d22a53": {
          "model_module": "@jupyter-widgets/controls",
          "model_name": "DescriptionStyleModel",
          "model_module_version": "1.5.0",
          "state": {
            "_view_name": "StyleView",
            "_model_name": "DescriptionStyleModel",
            "description_width": "",
            "_view_module": "@jupyter-widgets/base",
            "_model_module_version": "1.5.0",
            "_view_count": null,
            "_view_module_version": "1.2.0",
            "_model_module": "@jupyter-widgets/controls"
          }
        },
        "2847b8a0074a42c0909cf2f9e6d2dc7c": {
          "model_module": "@jupyter-widgets/base",
          "model_name": "LayoutModel",
          "model_module_version": "1.2.0",
          "state": {
            "_view_name": "LayoutView",
            "grid_template_rows": null,
            "right": null,
            "justify_content": null,
            "_view_module": "@jupyter-widgets/base",
            "overflow": null,
            "_model_module_version": "1.2.0",
            "_view_count": null,
            "flex_flow": null,
            "width": null,
            "min_width": null,
            "border": null,
            "align_items": null,
            "bottom": null,
            "_model_module": "@jupyter-widgets/base",
            "top": null,
            "grid_column": null,
            "overflow_y": null,
            "overflow_x": null,
            "grid_auto_flow": null,
            "grid_area": null,
            "grid_template_columns": null,
            "flex": null,
            "_model_name": "LayoutModel",
            "justify_items": null,
            "grid_row": null,
            "max_height": null,
            "align_content": null,
            "visibility": null,
            "align_self": null,
            "height": null,
            "min_height": null,
            "padding": null,
            "grid_auto_rows": null,
            "grid_gap": null,
            "max_width": null,
            "order": null,
            "_view_module_version": "1.2.0",
            "grid_template_areas": null,
            "object_position": null,
            "object_fit": null,
            "grid_auto_columns": null,
            "margin": null,
            "display": null,
            "left": null
          }
        },
        "ef0ae55009884c9fb556236458bda89b": {
          "model_module": "@jupyter-widgets/controls",
          "model_name": "ProgressStyleModel",
          "model_module_version": "1.5.0",
          "state": {
            "_view_name": "StyleView",
            "_model_name": "ProgressStyleModel",
            "description_width": "",
            "_view_module": "@jupyter-widgets/base",
            "_model_module_version": "1.5.0",
            "_view_count": null,
            "_view_module_version": "1.2.0",
            "bar_color": null,
            "_model_module": "@jupyter-widgets/controls"
          }
        },
        "d4c51e969f824134a879f20a65b2afbf": {
          "model_module": "@jupyter-widgets/base",
          "model_name": "LayoutModel",
          "model_module_version": "1.2.0",
          "state": {
            "_view_name": "LayoutView",
            "grid_template_rows": null,
            "right": null,
            "justify_content": null,
            "_view_module": "@jupyter-widgets/base",
            "overflow": null,
            "_model_module_version": "1.2.0",
            "_view_count": null,
            "flex_flow": null,
            "width": null,
            "min_width": null,
            "border": null,
            "align_items": null,
            "bottom": null,
            "_model_module": "@jupyter-widgets/base",
            "top": null,
            "grid_column": null,
            "overflow_y": null,
            "overflow_x": null,
            "grid_auto_flow": null,
            "grid_area": null,
            "grid_template_columns": null,
            "flex": null,
            "_model_name": "LayoutModel",
            "justify_items": null,
            "grid_row": null,
            "max_height": null,
            "align_content": null,
            "visibility": null,
            "align_self": null,
            "height": null,
            "min_height": null,
            "padding": null,
            "grid_auto_rows": null,
            "grid_gap": null,
            "max_width": null,
            "order": null,
            "_view_module_version": "1.2.0",
            "grid_template_areas": null,
            "object_position": null,
            "object_fit": null,
            "grid_auto_columns": null,
            "margin": null,
            "display": null,
            "left": null
          }
        },
        "588f8bb90d7a4d53bc1ac1e8f4b4b8df": {
          "model_module": "@jupyter-widgets/controls",
          "model_name": "DescriptionStyleModel",
          "model_module_version": "1.5.0",
          "state": {
            "_view_name": "StyleView",
            "_model_name": "DescriptionStyleModel",
            "description_width": "",
            "_view_module": "@jupyter-widgets/base",
            "_model_module_version": "1.5.0",
            "_view_count": null,
            "_view_module_version": "1.2.0",
            "_model_module": "@jupyter-widgets/controls"
          }
        },
        "ff37fe05ae9545bd9a9b6e6539eadd6e": {
          "model_module": "@jupyter-widgets/base",
          "model_name": "LayoutModel",
          "model_module_version": "1.2.0",
          "state": {
            "_view_name": "LayoutView",
            "grid_template_rows": null,
            "right": null,
            "justify_content": null,
            "_view_module": "@jupyter-widgets/base",
            "overflow": null,
            "_model_module_version": "1.2.0",
            "_view_count": null,
            "flex_flow": null,
            "width": null,
            "min_width": null,
            "border": null,
            "align_items": null,
            "bottom": null,
            "_model_module": "@jupyter-widgets/base",
            "top": null,
            "grid_column": null,
            "overflow_y": null,
            "overflow_x": null,
            "grid_auto_flow": null,
            "grid_area": null,
            "grid_template_columns": null,
            "flex": null,
            "_model_name": "LayoutModel",
            "justify_items": null,
            "grid_row": null,
            "max_height": null,
            "align_content": null,
            "visibility": null,
            "align_self": null,
            "height": null,
            "min_height": null,
            "padding": null,
            "grid_auto_rows": null,
            "grid_gap": null,
            "max_width": null,
            "order": null,
            "_view_module_version": "1.2.0",
            "grid_template_areas": null,
            "object_position": null,
            "object_fit": null,
            "grid_auto_columns": null,
            "margin": null,
            "display": null,
            "left": null
          }
        },
        "6f28386135cc4f3cadb10803ff23f947": {
          "model_module": "@jupyter-widgets/controls",
          "model_name": "HBoxModel",
          "model_module_version": "1.5.0",
          "state": {
            "_view_name": "HBoxView",
            "_dom_classes": [],
            "_model_name": "HBoxModel",
            "_view_module": "@jupyter-widgets/controls",
            "_model_module_version": "1.5.0",
            "_view_count": null,
            "_view_module_version": "1.5.0",
            "box_style": "",
            "layout": "IPY_MODEL_f970ef7884754ed6b5387c77f05ba1e2",
            "_model_module": "@jupyter-widgets/controls",
            "children": [
              "IPY_MODEL_16cc89a46b2e45289f5f63f983904a47",
              "IPY_MODEL_e1c73f401aa046459c3ece872a5e05bb",
              "IPY_MODEL_7e80444deff24451bec9fb8c4424e89e"
            ]
          }
        },
        "f970ef7884754ed6b5387c77f05ba1e2": {
          "model_module": "@jupyter-widgets/base",
          "model_name": "LayoutModel",
          "model_module_version": "1.2.0",
          "state": {
            "_view_name": "LayoutView",
            "grid_template_rows": null,
            "right": null,
            "justify_content": null,
            "_view_module": "@jupyter-widgets/base",
            "overflow": null,
            "_model_module_version": "1.2.0",
            "_view_count": null,
            "flex_flow": null,
            "width": null,
            "min_width": null,
            "border": null,
            "align_items": null,
            "bottom": null,
            "_model_module": "@jupyter-widgets/base",
            "top": null,
            "grid_column": null,
            "overflow_y": null,
            "overflow_x": null,
            "grid_auto_flow": null,
            "grid_area": null,
            "grid_template_columns": null,
            "flex": null,
            "_model_name": "LayoutModel",
            "justify_items": null,
            "grid_row": null,
            "max_height": null,
            "align_content": null,
            "visibility": null,
            "align_self": null,
            "height": null,
            "min_height": null,
            "padding": null,
            "grid_auto_rows": null,
            "grid_gap": null,
            "max_width": null,
            "order": null,
            "_view_module_version": "1.2.0",
            "grid_template_areas": null,
            "object_position": null,
            "object_fit": null,
            "grid_auto_columns": null,
            "margin": null,
            "display": null,
            "left": null
          }
        },
        "16cc89a46b2e45289f5f63f983904a47": {
          "model_module": "@jupyter-widgets/controls",
          "model_name": "HTMLModel",
          "model_module_version": "1.5.0",
          "state": {
            "_view_name": "HTMLView",
            "style": "IPY_MODEL_6129a8daf8114852999d7f1e96a0a0df",
            "_dom_classes": [],
            "description": "",
            "_model_name": "HTMLModel",
            "placeholder": "​",
            "_view_module": "@jupyter-widgets/controls",
            "_model_module_version": "1.5.0",
            "value": "",
            "_view_count": null,
            "_view_module_version": "1.5.0",
            "description_tooltip": null,
            "_model_module": "@jupyter-widgets/controls",
            "layout": "IPY_MODEL_51edabc430c941a9be61b80bb18d6073"
          }
        },
        "e1c73f401aa046459c3ece872a5e05bb": {
          "model_module": "@jupyter-widgets/controls",
          "model_name": "FloatProgressModel",
          "model_module_version": "1.5.0",
          "state": {
            "_view_name": "ProgressView",
            "style": "IPY_MODEL_1d681b9c2f3148ef84129eb51fc4a84b",
            "_dom_classes": [],
            "description": "",
            "_model_name": "FloatProgressModel",
            "bar_style": "info",
            "max": 1,
            "_view_module": "@jupyter-widgets/controls",
            "_model_module_version": "1.5.0",
            "value": 1,
            "_view_count": null,
            "_view_module_version": "1.5.0",
            "orientation": "horizontal",
            "min": 0,
            "description_tooltip": null,
            "_model_module": "@jupyter-widgets/controls",
            "layout": "IPY_MODEL_227f4c7fb3b346f6a81c4a4fd8e7551e"
          }
        },
        "7e80444deff24451bec9fb8c4424e89e": {
          "model_module": "@jupyter-widgets/controls",
          "model_name": "HTMLModel",
          "model_module_version": "1.5.0",
          "state": {
            "_view_name": "HTMLView",
            "style": "IPY_MODEL_707d0f30d6e54c43819c11c779e27cd8",
            "_dom_classes": [],
            "description": "",
            "_model_name": "HTMLModel",
            "placeholder": "​",
            "_view_module": "@jupyter-widgets/controls",
            "_model_module_version": "1.5.0",
            "value": " 9960/0 [00:09&lt;00:00, 987.33 examples/s]",
            "_view_count": null,
            "_view_module_version": "1.5.0",
            "description_tooltip": null,
            "_model_module": "@jupyter-widgets/controls",
            "layout": "IPY_MODEL_92993ae3fbb64e24b206251aebe3b147"
          }
        },
        "6129a8daf8114852999d7f1e96a0a0df": {
          "model_module": "@jupyter-widgets/controls",
          "model_name": "DescriptionStyleModel",
          "model_module_version": "1.5.0",
          "state": {
            "_view_name": "StyleView",
            "_model_name": "DescriptionStyleModel",
            "description_width": "",
            "_view_module": "@jupyter-widgets/base",
            "_model_module_version": "1.5.0",
            "_view_count": null,
            "_view_module_version": "1.2.0",
            "_model_module": "@jupyter-widgets/controls"
          }
        },
        "51edabc430c941a9be61b80bb18d6073": {
          "model_module": "@jupyter-widgets/base",
          "model_name": "LayoutModel",
          "model_module_version": "1.2.0",
          "state": {
            "_view_name": "LayoutView",
            "grid_template_rows": null,
            "right": null,
            "justify_content": null,
            "_view_module": "@jupyter-widgets/base",
            "overflow": null,
            "_model_module_version": "1.2.0",
            "_view_count": null,
            "flex_flow": null,
            "width": null,
            "min_width": null,
            "border": null,
            "align_items": null,
            "bottom": null,
            "_model_module": "@jupyter-widgets/base",
            "top": null,
            "grid_column": null,
            "overflow_y": null,
            "overflow_x": null,
            "grid_auto_flow": null,
            "grid_area": null,
            "grid_template_columns": null,
            "flex": null,
            "_model_name": "LayoutModel",
            "justify_items": null,
            "grid_row": null,
            "max_height": null,
            "align_content": null,
            "visibility": null,
            "align_self": null,
            "height": null,
            "min_height": null,
            "padding": null,
            "grid_auto_rows": null,
            "grid_gap": null,
            "max_width": null,
            "order": null,
            "_view_module_version": "1.2.0",
            "grid_template_areas": null,
            "object_position": null,
            "object_fit": null,
            "grid_auto_columns": null,
            "margin": null,
            "display": null,
            "left": null
          }
        },
        "1d681b9c2f3148ef84129eb51fc4a84b": {
          "model_module": "@jupyter-widgets/controls",
          "model_name": "ProgressStyleModel",
          "model_module_version": "1.5.0",
          "state": {
            "_view_name": "StyleView",
            "_model_name": "ProgressStyleModel",
            "description_width": "",
            "_view_module": "@jupyter-widgets/base",
            "_model_module_version": "1.5.0",
            "_view_count": null,
            "_view_module_version": "1.2.0",
            "bar_color": null,
            "_model_module": "@jupyter-widgets/controls"
          }
        },
        "227f4c7fb3b346f6a81c4a4fd8e7551e": {
          "model_module": "@jupyter-widgets/base",
          "model_name": "LayoutModel",
          "model_module_version": "1.2.0",
          "state": {
            "_view_name": "LayoutView",
            "grid_template_rows": null,
            "right": null,
            "justify_content": null,
            "_view_module": "@jupyter-widgets/base",
            "overflow": null,
            "_model_module_version": "1.2.0",
            "_view_count": null,
            "flex_flow": null,
            "width": "20px",
            "min_width": null,
            "border": null,
            "align_items": null,
            "bottom": null,
            "_model_module": "@jupyter-widgets/base",
            "top": null,
            "grid_column": null,
            "overflow_y": null,
            "overflow_x": null,
            "grid_auto_flow": null,
            "grid_area": null,
            "grid_template_columns": null,
            "flex": null,
            "_model_name": "LayoutModel",
            "justify_items": null,
            "grid_row": null,
            "max_height": null,
            "align_content": null,
            "visibility": null,
            "align_self": null,
            "height": null,
            "min_height": null,
            "padding": null,
            "grid_auto_rows": null,
            "grid_gap": null,
            "max_width": null,
            "order": null,
            "_view_module_version": "1.2.0",
            "grid_template_areas": null,
            "object_position": null,
            "object_fit": null,
            "grid_auto_columns": null,
            "margin": null,
            "display": null,
            "left": null
          }
        },
        "707d0f30d6e54c43819c11c779e27cd8": {
          "model_module": "@jupyter-widgets/controls",
          "model_name": "DescriptionStyleModel",
          "model_module_version": "1.5.0",
          "state": {
            "_view_name": "StyleView",
            "_model_name": "DescriptionStyleModel",
            "description_width": "",
            "_view_module": "@jupyter-widgets/base",
            "_model_module_version": "1.5.0",
            "_view_count": null,
            "_view_module_version": "1.2.0",
            "_model_module": "@jupyter-widgets/controls"
          }
        },
        "92993ae3fbb64e24b206251aebe3b147": {
          "model_module": "@jupyter-widgets/base",
          "model_name": "LayoutModel",
          "model_module_version": "1.2.0",
          "state": {
            "_view_name": "LayoutView",
            "grid_template_rows": null,
            "right": null,
            "justify_content": null,
            "_view_module": "@jupyter-widgets/base",
            "overflow": null,
            "_model_module_version": "1.2.0",
            "_view_count": null,
            "flex_flow": null,
            "width": null,
            "min_width": null,
            "border": null,
            "align_items": null,
            "bottom": null,
            "_model_module": "@jupyter-widgets/base",
            "top": null,
            "grid_column": null,
            "overflow_y": null,
            "overflow_x": null,
            "grid_auto_flow": null,
            "grid_area": null,
            "grid_template_columns": null,
            "flex": null,
            "_model_name": "LayoutModel",
            "justify_items": null,
            "grid_row": null,
            "max_height": null,
            "align_content": null,
            "visibility": null,
            "align_self": null,
            "height": null,
            "min_height": null,
            "padding": null,
            "grid_auto_rows": null,
            "grid_gap": null,
            "max_width": null,
            "order": null,
            "_view_module_version": "1.2.0",
            "grid_template_areas": null,
            "object_position": null,
            "object_fit": null,
            "grid_auto_columns": null,
            "margin": null,
            "display": null,
            "left": null
          }
        },
        "15b58b3ec0a440a8ab86fac0fd427811": {
          "model_module": "@jupyter-widgets/controls",
          "model_name": "HBoxModel",
          "model_module_version": "1.5.0",
          "state": {
            "_view_name": "HBoxView",
            "_dom_classes": [],
            "_model_name": "HBoxModel",
            "_view_module": "@jupyter-widgets/controls",
            "_model_module_version": "1.5.0",
            "_view_count": null,
            "_view_module_version": "1.5.0",
            "box_style": "",
            "layout": "IPY_MODEL_004bae8f855645fa8ee1f0ae86584440",
            "_model_module": "@jupyter-widgets/controls",
            "children": [
              "IPY_MODEL_9f33d688fe9344eaa169eac0ceca7bf5",
              "IPY_MODEL_1d36085c8c924a889664e890daa68c13",
              "IPY_MODEL_17588c059b754069b16f96da69c84119"
            ]
          }
        },
        "004bae8f855645fa8ee1f0ae86584440": {
          "model_module": "@jupyter-widgets/base",
          "model_name": "LayoutModel",
          "model_module_version": "1.2.0",
          "state": {
            "_view_name": "LayoutView",
            "grid_template_rows": null,
            "right": null,
            "justify_content": null,
            "_view_module": "@jupyter-widgets/base",
            "overflow": null,
            "_model_module_version": "1.2.0",
            "_view_count": null,
            "flex_flow": null,
            "width": null,
            "min_width": null,
            "border": null,
            "align_items": null,
            "bottom": null,
            "_model_module": "@jupyter-widgets/base",
            "top": null,
            "grid_column": null,
            "overflow_y": null,
            "overflow_x": null,
            "grid_auto_flow": null,
            "grid_area": null,
            "grid_template_columns": null,
            "flex": null,
            "_model_name": "LayoutModel",
            "justify_items": null,
            "grid_row": null,
            "max_height": null,
            "align_content": null,
            "visibility": null,
            "align_self": null,
            "height": null,
            "min_height": null,
            "padding": null,
            "grid_auto_rows": null,
            "grid_gap": null,
            "max_width": null,
            "order": null,
            "_view_module_version": "1.2.0",
            "grid_template_areas": null,
            "object_position": null,
            "object_fit": null,
            "grid_auto_columns": null,
            "margin": null,
            "display": null,
            "left": null
          }
        },
        "9f33d688fe9344eaa169eac0ceca7bf5": {
          "model_module": "@jupyter-widgets/controls",
          "model_name": "HTMLModel",
          "model_module_version": "1.5.0",
          "state": {
            "_view_name": "HTMLView",
            "style": "IPY_MODEL_cbfe478eaa2146af94d9517d62bb3627",
            "_dom_classes": [],
            "description": "",
            "_model_name": "HTMLModel",
            "placeholder": "​",
            "_view_module": "@jupyter-widgets/controls",
            "_model_module_version": "1.5.0",
            "value": "100%",
            "_view_count": null,
            "_view_module_version": "1.5.0",
            "description_tooltip": null,
            "_model_module": "@jupyter-widgets/controls",
            "layout": "IPY_MODEL_ac68e9c218c849d89350937066c84d77"
          }
        },
        "1d36085c8c924a889664e890daa68c13": {
          "model_module": "@jupyter-widgets/controls",
          "model_name": "FloatProgressModel",
          "model_module_version": "1.5.0",
          "state": {
            "_view_name": "ProgressView",
            "style": "IPY_MODEL_1d1e72cb7d654ca09535110d983b26a3",
            "_dom_classes": [],
            "description": "",
            "_model_name": "FloatProgressModel",
            "bar_style": "danger",
            "max": 10000,
            "_view_module": "@jupyter-widgets/controls",
            "_model_module_version": "1.5.0",
            "value": 9999,
            "_view_count": null,
            "_view_module_version": "1.5.0",
            "orientation": "horizontal",
            "min": 0,
            "description_tooltip": null,
            "_model_module": "@jupyter-widgets/controls",
            "layout": "IPY_MODEL_bcd9930f6da341409e319a7d3fc16ec5"
          }
        },
        "17588c059b754069b16f96da69c84119": {
          "model_module": "@jupyter-widgets/controls",
          "model_name": "HTMLModel",
          "model_module_version": "1.5.0",
          "state": {
            "_view_name": "HTMLView",
            "style": "IPY_MODEL_2a8efd25531d4698bc8085165a03f0c0",
            "_dom_classes": [],
            "description": "",
            "_model_name": "HTMLModel",
            "placeholder": "​",
            "_view_module": "@jupyter-widgets/controls",
            "_model_module_version": "1.5.0",
            "value": " 9999/10000 [00:00&lt;00:00, 57072.43 examples/s]",
            "_view_count": null,
            "_view_module_version": "1.5.0",
            "description_tooltip": null,
            "_model_module": "@jupyter-widgets/controls",
            "layout": "IPY_MODEL_534f4996b1644da49f4d61b855119e82"
          }
        },
        "cbfe478eaa2146af94d9517d62bb3627": {
          "model_module": "@jupyter-widgets/controls",
          "model_name": "DescriptionStyleModel",
          "model_module_version": "1.5.0",
          "state": {
            "_view_name": "StyleView",
            "_model_name": "DescriptionStyleModel",
            "description_width": "",
            "_view_module": "@jupyter-widgets/base",
            "_model_module_version": "1.5.0",
            "_view_count": null,
            "_view_module_version": "1.2.0",
            "_model_module": "@jupyter-widgets/controls"
          }
        },
        "ac68e9c218c849d89350937066c84d77": {
          "model_module": "@jupyter-widgets/base",
          "model_name": "LayoutModel",
          "model_module_version": "1.2.0",
          "state": {
            "_view_name": "LayoutView",
            "grid_template_rows": null,
            "right": null,
            "justify_content": null,
            "_view_module": "@jupyter-widgets/base",
            "overflow": null,
            "_model_module_version": "1.2.0",
            "_view_count": null,
            "flex_flow": null,
            "width": null,
            "min_width": null,
            "border": null,
            "align_items": null,
            "bottom": null,
            "_model_module": "@jupyter-widgets/base",
            "top": null,
            "grid_column": null,
            "overflow_y": null,
            "overflow_x": null,
            "grid_auto_flow": null,
            "grid_area": null,
            "grid_template_columns": null,
            "flex": null,
            "_model_name": "LayoutModel",
            "justify_items": null,
            "grid_row": null,
            "max_height": null,
            "align_content": null,
            "visibility": null,
            "align_self": null,
            "height": null,
            "min_height": null,
            "padding": null,
            "grid_auto_rows": null,
            "grid_gap": null,
            "max_width": null,
            "order": null,
            "_view_module_version": "1.2.0",
            "grid_template_areas": null,
            "object_position": null,
            "object_fit": null,
            "grid_auto_columns": null,
            "margin": null,
            "display": null,
            "left": null
          }
        },
        "1d1e72cb7d654ca09535110d983b26a3": {
          "model_module": "@jupyter-widgets/controls",
          "model_name": "ProgressStyleModel",
          "model_module_version": "1.5.0",
          "state": {
            "_view_name": "StyleView",
            "_model_name": "ProgressStyleModel",
            "description_width": "",
            "_view_module": "@jupyter-widgets/base",
            "_model_module_version": "1.5.0",
            "_view_count": null,
            "_view_module_version": "1.2.0",
            "bar_color": null,
            "_model_module": "@jupyter-widgets/controls"
          }
        },
        "bcd9930f6da341409e319a7d3fc16ec5": {
          "model_module": "@jupyter-widgets/base",
          "model_name": "LayoutModel",
          "model_module_version": "1.2.0",
          "state": {
            "_view_name": "LayoutView",
            "grid_template_rows": null,
            "right": null,
            "justify_content": null,
            "_view_module": "@jupyter-widgets/base",
            "overflow": null,
            "_model_module_version": "1.2.0",
            "_view_count": null,
            "flex_flow": null,
            "width": null,
            "min_width": null,
            "border": null,
            "align_items": null,
            "bottom": null,
            "_model_module": "@jupyter-widgets/base",
            "top": null,
            "grid_column": null,
            "overflow_y": null,
            "overflow_x": null,
            "grid_auto_flow": null,
            "grid_area": null,
            "grid_template_columns": null,
            "flex": null,
            "_model_name": "LayoutModel",
            "justify_items": null,
            "grid_row": null,
            "max_height": null,
            "align_content": null,
            "visibility": null,
            "align_self": null,
            "height": null,
            "min_height": null,
            "padding": null,
            "grid_auto_rows": null,
            "grid_gap": null,
            "max_width": null,
            "order": null,
            "_view_module_version": "1.2.0",
            "grid_template_areas": null,
            "object_position": null,
            "object_fit": null,
            "grid_auto_columns": null,
            "margin": null,
            "display": null,
            "left": null
          }
        },
        "2a8efd25531d4698bc8085165a03f0c0": {
          "model_module": "@jupyter-widgets/controls",
          "model_name": "DescriptionStyleModel",
          "model_module_version": "1.5.0",
          "state": {
            "_view_name": "StyleView",
            "_model_name": "DescriptionStyleModel",
            "description_width": "",
            "_view_module": "@jupyter-widgets/base",
            "_model_module_version": "1.5.0",
            "_view_count": null,
            "_view_module_version": "1.2.0",
            "_model_module": "@jupyter-widgets/controls"
          }
        },
        "534f4996b1644da49f4d61b855119e82": {
          "model_module": "@jupyter-widgets/base",
          "model_name": "LayoutModel",
          "model_module_version": "1.2.0",
          "state": {
            "_view_name": "LayoutView",
            "grid_template_rows": null,
            "right": null,
            "justify_content": null,
            "_view_module": "@jupyter-widgets/base",
            "overflow": null,
            "_model_module_version": "1.2.0",
            "_view_count": null,
            "flex_flow": null,
            "width": null,
            "min_width": null,
            "border": null,
            "align_items": null,
            "bottom": null,
            "_model_module": "@jupyter-widgets/base",
            "top": null,
            "grid_column": null,
            "overflow_y": null,
            "overflow_x": null,
            "grid_auto_flow": null,
            "grid_area": null,
            "grid_template_columns": null,
            "flex": null,
            "_model_name": "LayoutModel",
            "justify_items": null,
            "grid_row": null,
            "max_height": null,
            "align_content": null,
            "visibility": null,
            "align_self": null,
            "height": null,
            "min_height": null,
            "padding": null,
            "grid_auto_rows": null,
            "grid_gap": null,
            "max_width": null,
            "order": null,
            "_view_module_version": "1.2.0",
            "grid_template_areas": null,
            "object_position": null,
            "object_fit": null,
            "grid_auto_columns": null,
            "margin": null,
            "display": null,
            "left": null
          }
        }
      }
    }
  },
  "cells": [
    {
      "cell_type": "markdown",
      "metadata": {
        "id": "view-in-github",
        "colab_type": "text"
      },
      "source": [
        "<a href=\"https://colab.research.google.com/github/MurtazAlek/MLDM-2021/blob/main/%D0%9A%D0%BE%D0%BF%D0%B8%D1%8F_%D0%B1%D0%BB%D0%BE%D0%BA%D0%BD%D0%BE%D1%82%D0%B0_%22MLDM_2020_seminar08_Introduction_to_TF2_ipynb%22.ipynb\" target=\"_parent\"><img src=\"https://colab.research.google.com/assets/colab-badge.svg\" alt=\"Open In Colab\"/></a>"
      ]
    },
    {
      "cell_type": "markdown",
      "metadata": {
        "id": "SVhH9wpNyl0Y"
      },
      "source": [
        "# Brief intro to TensorFlow"
      ]
    },
    {
      "cell_type": "markdown",
      "metadata": {
        "id": "lb3IWYPEyq3f"
      },
      "source": [
        "![tf logo](https://www.tensorflow.org/images/tf_logo_social.png)\n",
        "\n",
        "TensorFlow (tf) is one of the popular symbolic math libraries. Roughly, you can think of it as (a subset of) `numpy` with *GPU support* and *automatic differentiation* + a set of useful tools to build and train neural nets.\n",
        "\n",
        "The computations in tf are represented in the form of computation graph - a directed graph whose edges are the *numerical values* (or 'tensors') to make calculations with, and whose vertices are operations on those values. The edge directions indicate the direction of the computation flow, i.e. what tensors are the inputs and what are the outputs to a given operation (vertex).\n",
        "\n",
        "Prior to the release of version 2.0, the main execution paradigm in tf was the *lazy evaluation*. This is an evaluation strategy that delays the execution of an operation until its result is actually needed. This means that in order to make computations you need to first define the computation graph and then execute it separately. While such an approach is reasonable for most NNs (you define the network architecture only once and then repeatedly feed the data to it) it might seem a little unintuitive. Also, this paradigm makes debugging quite troublesome. \n",
        "\n",
        "Starting from version 2.0, the default paradigm in tf is the *eager evaluation*, which runs the operations as soon as you create them. This approach might feel more natural and therefore make the development process smoother. It is still possible to use the lazy execution paradigm though."
      ]
    },
    {
      "cell_type": "markdown",
      "metadata": {
        "id": "SNnco085_svg"
      },
      "source": [
        "Let's start this introduction with an overview of the low-level API."
      ]
    },
    {
      "cell_type": "markdown",
      "metadata": {
        "id": "8494qv0QWozp"
      },
      "source": [
        "## Low-level intro"
      ]
    },
    {
      "cell_type": "code",
      "metadata": {
        "id": "98J01C9nPnhJ",
        "colab": {
          "base_uri": "https://localhost:8080/"
        },
        "outputId": "7badd3ee-cc00-4502-ea9e-85f5cc0fd8a6"
      },
      "source": [
        "# this line ensures you use the new version of tensorflow:\n",
        "%tensorflow_version 2.x\n",
        "\n",
        "import tensorflow as tf\n",
        "\n",
        "print(tf.__version__)\n",
        "\n",
        "# tf.debugging.set_log_device_placement(True)\n",
        "        # uncommenting the previous line will let you peek on what's\n",
        "        # happening behind the scenes (i.e. what operations are\n",
        "        # created, which devices they are using, etc.)"
      ],
      "execution_count": null,
      "outputs": [
        {
          "output_type": "stream",
          "name": "stdout",
          "text": [
            "2.6.0\n"
          ]
        }
      ]
    },
    {
      "cell_type": "markdown",
      "metadata": {
        "id": "a-5WIHKNBUZX"
      },
      "source": [
        "### Basic stuff"
      ]
    },
    {
      "cell_type": "markdown",
      "metadata": {
        "id": "m-yBcC3MBKSC"
      },
      "source": [
        "Firstly, consider the following code in `numpy`:"
      ]
    },
    {
      "cell_type": "code",
      "metadata": {
        "id": "tZy-qb0CuSAg",
        "colab": {
          "base_uri": "https://localhost:8080/"
        },
        "outputId": "8717367d-731e-4777-aa57-4e8850750f1b"
      },
      "source": [
        "import numpy as np\n",
        "\n",
        "x = np.array([1., 2., 3.])\n",
        "y = np.array([3., 2., 1.])\n",
        "\n",
        "print('---')\n",
        "print(x + y)\n",
        "\n",
        "print('---')\n",
        "print(x * y)\n",
        "\n",
        "print('---')\n",
        "print(x.dot(y))\n",
        "\n",
        "print('---')\n",
        "print(x[:,np.newaxis].dot(y[np.newaxis,:]))\n"
      ],
      "execution_count": null,
      "outputs": [
        {
          "output_type": "stream",
          "name": "stdout",
          "text": [
            "---\n",
            "[4. 4. 4.]\n",
            "---\n",
            "[3. 4. 3.]\n",
            "---\n",
            "10.0\n",
            "---\n",
            "[[3. 2. 1.]\n",
            " [6. 4. 2.]\n",
            " [9. 6. 3.]]\n"
          ]
        }
      ]
    },
    {
      "cell_type": "markdown",
      "metadata": {
        "id": "CUSKjjGIBaah"
      },
      "source": [
        "Here's the equivalent in TensorFlow:"
      ]
    },
    {
      "cell_type": "code",
      "metadata": {
        "id": "F9xqixVdwGic",
        "colab": {
          "base_uri": "https://localhost:8080/"
        },
        "outputId": "5c6841a2-d24e-4b05-fa0f-3683449ca6dc"
      },
      "source": [
        "x = tf.convert_to_tensor([1., 2., 3.])\n",
        "y = tf.convert_to_tensor([3., 2., 1.])\n",
        "\n",
        "print('---')\n",
        "print(x + y)\n",
        "\n",
        "print('---')\n",
        "print(x * y)\n",
        "\n",
        "print('---')\n",
        "print(tf.matmul(x[tf.newaxis,:], y[:,tf.newaxis]))\n",
        "\n",
        "print('---')\n",
        "print(tf.matmul(x[:,tf.newaxis], y[tf.newaxis,:]))"
      ],
      "execution_count": null,
      "outputs": [
        {
          "output_type": "stream",
          "name": "stdout",
          "text": [
            "---\n",
            "tf.Tensor([4. 4. 4.], shape=(3,), dtype=float32)\n",
            "---\n",
            "tf.Tensor([3. 4. 3.], shape=(3,), dtype=float32)\n",
            "---\n",
            "tf.Tensor([[10.]], shape=(1, 1), dtype=float32)\n",
            "---\n",
            "tf.Tensor(\n",
            "[[3. 2. 1.]\n",
            " [6. 4. 2.]\n",
            " [9. 6. 3.]], shape=(3, 3), dtype=float32)\n"
          ]
        }
      ]
    },
    {
      "cell_type": "markdown",
      "metadata": {
        "id": "H57DFr_hBtOX"
      },
      "source": [
        "Like `numpy`, TensorFlow is capable of broadcasting unit dimentions, e.g. below we calculate a difference between two tensors of shapes `(3, 1)` and `(1, 3)` to get the result of shape `(3, 3)`:"
      ]
    },
    {
      "cell_type": "code",
      "metadata": {
        "id": "6Dc7HKp1uR14",
        "colab": {
          "base_uri": "https://localhost:8080/"
        },
        "outputId": "12619582-3a6c-447e-b1c7-5c4f491f6a89"
      },
      "source": [
        "z = x[:,tf.newaxis] - y[tf.newaxis,:]\n",
        "print(z)"
      ],
      "execution_count": null,
      "outputs": [
        {
          "output_type": "stream",
          "name": "stdout",
          "text": [
            "tf.Tensor(\n",
            "[[-2. -1.  0.]\n",
            " [-1.  0.  1.]\n",
            " [ 0.  1.  2.]], shape=(3, 3), dtype=float32)\n"
          ]
        }
      ]
    },
    {
      "cell_type": "markdown",
      "metadata": {
        "id": "Yr3k-vlyCC0N"
      },
      "source": [
        "Actions like `mean`, `max`, `min`, etc. are implemented with the `reduce_*` opetations, e.g.:"
      ]
    },
    {
      "cell_type": "code",
      "metadata": {
        "id": "umwIlq08yH2J",
        "colab": {
          "base_uri": "https://localhost:8080/"
        },
        "outputId": "46c5b43c-71e4-432a-b9ab-ed86d561cdcb"
      },
      "source": [
        "print(tf.reduce_sum(z, axis=0))"
      ],
      "execution_count": null,
      "outputs": [
        {
          "output_type": "stream",
          "name": "stdout",
          "text": [
            "tf.Tensor([-3.  0.  3.], shape=(3,), dtype=float32)\n"
          ]
        }
      ]
    },
    {
      "cell_type": "code",
      "metadata": {
        "id": "Vhppxvb_CUvD",
        "colab": {
          "base_uri": "https://localhost:8080/"
        },
        "outputId": "62ccd934-3288-4a42-d11e-4c5747228734"
      },
      "source": [
        "# now try printing out the max of z along axis 1\n",
        "print(tf.reduce_max(z,axis=1))"
      ],
      "execution_count": null,
      "outputs": [
        {
          "output_type": "stream",
          "name": "stdout",
          "text": [
            "tf.Tensor([0. 1. 2.], shape=(3,), dtype=float32)\n"
          ]
        }
      ]
    },
    {
      "cell_type": "markdown",
      "metadata": {
        "id": "Zb1rENaWDOgx"
      },
      "source": [
        "Contrary to `numpy`, you cannot assign to tensors:"
      ]
    },
    {
      "cell_type": "code",
      "metadata": {
        "id": "En8WAyw5uRqQ",
        "colab": {
          "base_uri": "https://localhost:8080/"
        },
        "outputId": "605a5618-4845-46c7-b525-5c1fa367b999"
      },
      "source": [
        "try:\n",
        "  z[1,1] = 3.\n",
        "except Exception as e:\n",
        "  print(e)"
      ],
      "execution_count": null,
      "outputs": [
        {
          "output_type": "stream",
          "name": "stdout",
          "text": [
            "'tensorflow.python.framework.ops.EagerTensor' object does not support item assignment\n"
          ]
        }
      ]
    },
    {
      "cell_type": "code",
      "metadata": {
        "colab": {
          "base_uri": "https://localhost:8080/"
        },
        "id": "YNwG_NgdONtT",
        "outputId": "85ea6543-7fc8-4026-c4eb-0dc475cc498b"
      },
      "source": [
        "print(type(z))\n",
        "print(z)"
      ],
      "execution_count": null,
      "outputs": [
        {
          "output_type": "stream",
          "name": "stdout",
          "text": [
            "<class 'tensorflow.python.framework.ops.EagerTensor'>\n",
            "tf.Tensor(\n",
            "[[-2. -1.  0.]\n",
            " [-1.  0.  1.]\n",
            " [ 0.  1.  2.]], shape=(3, 3), dtype=float32)\n"
          ]
        }
      ]
    },
    {
      "cell_type": "markdown",
      "metadata": {
        "id": "fsRU0jCaD-dp"
      },
      "source": [
        "Tensors are immutable. If you wish to have a modifiable tensor, then you want to use the `tf.Variable`:"
      ]
    },
    {
      "cell_type": "code",
      "metadata": {
        "id": "TNjPU-j5uRWa",
        "colab": {
          "base_uri": "https://localhost:8080/"
        },
        "outputId": "d6012bc7-529a-4884-bff9-47e14ee20565"
      },
      "source": [
        "z_var = tf.Variable(z)\n",
        "print(z_var)\n",
        "z_var[1,1].assign(3.)\n",
        "print(z_var)"
      ],
      "execution_count": null,
      "outputs": [
        {
          "output_type": "stream",
          "name": "stdout",
          "text": [
            "<tf.Variable 'Variable:0' shape=(3, 3) dtype=float32, numpy=\n",
            "array([[-2., -1.,  0.],\n",
            "       [-1.,  0.,  1.],\n",
            "       [ 0.,  1.,  2.]], dtype=float32)>\n",
            "<tf.Variable 'Variable:0' shape=(3, 3) dtype=float32, numpy=\n",
            "array([[-2., -1.,  0.],\n",
            "       [-1.,  3.,  1.],\n",
            "       [ 0.,  1.,  2.]], dtype=float32)>\n"
          ]
        }
      ]
    },
    {
      "cell_type": "code",
      "metadata": {
        "id": "OPMaVtR7jEvC",
        "colab": {
          "base_uri": "https://localhost:8080/"
        },
        "outputId": "72db882b-1ccf-4e83-aad7-f2b408a5b31c"
      },
      "source": [
        "# Exercise:\n",
        "# 1) create a normal random vector (tensorflow tensor) of size 5\n",
        "# 2) create a uniform random vector (tensorflow tensor) of size 5\n",
        "# 3) get a vector (of size 5) of max values between 1) and 2)\n",
        "nv=tf.random.normal([5])\n",
        "uv=tf.random.uniform([5])\n",
        "print(nv)\n",
        "print(uv)\n",
        "print(tf.maximum(nv,uv))\n",
        "\n",
        "# 4*) What's the probability of 3) picking a value from 2) rather than 1)? (calculate a Monte-Carlo estimate)\n"
      ],
      "execution_count": null,
      "outputs": [
        {
          "output_type": "stream",
          "name": "stdout",
          "text": [
            "tf.Tensor([-0.01368595 -0.821395   -0.18026353  1.624082   -0.11048089], shape=(5,), dtype=float32)\n",
            "tf.Tensor([0.85528326 0.5527774  0.04628682 0.11787462 0.58674634], shape=(5,), dtype=float32)\n",
            "tf.Tensor([0.85528326 0.5527774  0.04628682 1.624082   0.58674634], shape=(5,), dtype=float32)\n"
          ]
        }
      ]
    },
    {
      "cell_type": "markdown",
      "metadata": {
        "id": "aekHU_RrID5Y"
      },
      "source": [
        "-----------"
      ]
    },
    {
      "cell_type": "markdown",
      "metadata": {
        "id": "yyFR46EdGKPE"
      },
      "source": [
        "### CPU vs GPU"
      ]
    },
    {
      "cell_type": "markdown",
      "metadata": {
        "id": "_AfdIyrKe72J"
      },
      "source": [
        "You can check which device's memory an object is stored in:"
      ]
    },
    {
      "cell_type": "code",
      "metadata": {
        "id": "40aecdlIFH-7",
        "colab": {
          "base_uri": "https://localhost:8080/"
        },
        "outputId": "e1dea9e6-4ff9-4ab3-a76c-85702434432d"
      },
      "source": [
        "x = tf.convert_to_tensor([1., 2., 3.])\n",
        "y = tf.convert_to_tensor([3., 2., 1.])\n",
        "z = x[:,tf.newaxis] - y[tf.newaxis,:]\n",
        "\n",
        "print(x.device)\n",
        "print(y.device)\n",
        "print(z.device)"
      ],
      "execution_count": null,
      "outputs": [
        {
          "output_type": "stream",
          "name": "stdout",
          "text": [
            "/job:localhost/replica:0/task:0/device:GPU:0\n",
            "/job:localhost/replica:0/task:0/device:GPU:0\n",
            "/job:localhost/replica:0/task:0/device:GPU:0\n"
          ]
        }
      ]
    },
    {
      "cell_type": "markdown",
      "metadata": {
        "id": "Zmd_msVDfMnH"
      },
      "source": [
        "In order to check the available devices you can do:"
      ]
    },
    {
      "cell_type": "code",
      "metadata": {
        "id": "TzXsRc7vRIj2",
        "colab": {
          "base_uri": "https://localhost:8080/"
        },
        "outputId": "35cc0c3e-1f2c-445d-f2fb-71120395fc99"
      },
      "source": [
        "quote = \"'\"\n",
        "for d in tf.config.list_logical_devices():\n",
        "  print(f\"Name: {quote + d.name + quote:20s}\\t Type:'{d.device_type}'\")"
      ],
      "execution_count": null,
      "outputs": [
        {
          "output_type": "stream",
          "name": "stdout",
          "text": [
            "Name: '/device:CPU:0'     \t Type:'CPU'\n",
            "Name: '/device:GPU:0'     \t Type:'GPU'\n"
          ]
        }
      ]
    },
    {
      "cell_type": "markdown",
      "metadata": {
        "id": "NHkkkKItgYdb"
      },
      "source": [
        "You can explicitly set the device you want to use for a tensor/operation using `tf.devcie(...)` in a python `with` statement:"
      ]
    },
    {
      "cell_type": "code",
      "metadata": {
        "id": "MUpVLmkXsnNR",
        "colab": {
          "base_uri": "https://localhost:8080/"
        },
        "outputId": "7dfffebc-8a29-47a5-a794-e1342ca7c607"
      },
      "source": [
        "with tf.device('/device:GPU:0'):\n",
        "  x_gpu = tf.identity(x)\n",
        "print(x.device)\n",
        "print(x_gpu.device)"
      ],
      "execution_count": null,
      "outputs": [
        {
          "output_type": "stream",
          "name": "stdout",
          "text": [
            "/job:localhost/replica:0/task:0/device:GPU:0\n",
            "/job:localhost/replica:0/task:0/device:GPU:0\n"
          ]
        }
      ]
    },
    {
      "cell_type": "markdown",
      "metadata": {
        "id": "vfFzq6mzgxC1"
      },
      "source": [
        "Let's compare the performance of CPU and GPU with calculating a tensor product of two relatively large vectors. First on CPU:"
      ]
    },
    {
      "cell_type": "code",
      "metadata": {
        "id": "nlGfI6EDFeqF"
      },
      "source": [
        "# We'll leave the object creation outside the timimg part\n",
        "with tf.device('/device:CPU:0'):\n",
        "  x = tf.convert_to_tensor(np.arange(10000).astype('float'))"
      ],
      "execution_count": null,
      "outputs": []
    },
    {
      "cell_type": "code",
      "metadata": {
        "id": "DxTi1NxrG_cx",
        "colab": {
          "base_uri": "https://localhost:8080/"
        },
        "outputId": "4dddafd7-0850-42e8-8cee-03d9f2bda035"
      },
      "source": [
        "%%timeit -r1 -n1\n",
        "with tf.device('/device:CPU:0'):\n",
        "  print(tf.reduce_sum(tf.matmul(x[:,tf.newaxis], x[tf.newaxis,:])))"
      ],
      "execution_count": null,
      "outputs": [
        {
          "output_type": "stream",
          "name": "stdout",
          "text": [
            "tf.Tensor(2499500025000000.0, shape=(), dtype=float64)\n",
            "1 loop, best of 1: 617 ms per loop\n"
          ]
        }
      ]
    },
    {
      "cell_type": "markdown",
      "metadata": {
        "id": "upDTTfAbhJrF"
      },
      "source": [
        "Now same code on GPU:"
      ]
    },
    {
      "cell_type": "code",
      "metadata": {
        "id": "7WerSMXFHUdf"
      },
      "source": [
        "with tf.device('/device:GPU:0'):\n",
        "  x = tf.convert_to_tensor(np.arange(10000).astype('float'))"
      ],
      "execution_count": null,
      "outputs": []
    },
    {
      "cell_type": "code",
      "metadata": {
        "id": "F0chMQ1ZHYNG",
        "colab": {
          "base_uri": "https://localhost:8080/"
        },
        "outputId": "33363fcb-8f5b-4871-87cb-b8db06a97bf2"
      },
      "source": [
        "%%timeit -r1 -n1\n",
        "with tf.device('/device:GPU:0'):\n",
        "  print(tf.reduce_sum(tf.matmul(x[:,tf.newaxis], x[tf.newaxis,:])))"
      ],
      "execution_count": null,
      "outputs": [
        {
          "output_type": "stream",
          "name": "stdout",
          "text": [
            "tf.Tensor(2499500025000000.0, shape=(), dtype=float64)\n",
            "1 loop, best of 1: 2.06 s per loop\n"
          ]
        }
      ]
    },
    {
      "cell_type": "markdown",
      "metadata": {
        "id": "95ZOQ9QfhQF3"
      },
      "source": [
        "Note that TensorFlow is smart enought to place tensors and operations on the most efficient devices automatically. E.g. if we create the object on CPU, but then don't specify the device to run computations on, we'll get the following:"
      ]
    },
    {
      "cell_type": "code",
      "metadata": {
        "id": "U-jMEwOUHmr2"
      },
      "source": [
        "with tf.device('/device:CPU:0'):\n",
        "  x = tf.convert_to_tensor(np.arange(10000).astype('float'))"
      ],
      "execution_count": null,
      "outputs": []
    },
    {
      "cell_type": "code",
      "metadata": {
        "id": "ozotjnd9HofJ",
        "colab": {
          "base_uri": "https://localhost:8080/"
        },
        "outputId": "fcf99fc9-d9ef-4c8b-9051-5820bfb3e0ee"
      },
      "source": [
        "%%timeit -r1 -n1\n",
        "print(tf.reduce_sum(tf.matmul(x[:,tf.newaxis], x[tf.newaxis,:])))"
      ],
      "execution_count": null,
      "outputs": [
        {
          "output_type": "stream",
          "name": "stdout",
          "text": [
            "tf.Tensor(2499500025000000.0, shape=(), dtype=float64)\n",
            "1 loop, best of 1: 17.2 ms per loop\n"
          ]
        }
      ]
    },
    {
      "cell_type": "markdown",
      "metadata": {
        "id": "y9lKQqs-IG-E"
      },
      "source": [
        "----------"
      ]
    },
    {
      "cell_type": "markdown",
      "metadata": {
        "id": "BXDZaqcchyX4"
      },
      "source": [
        "### Automatic differentiation"
      ]
    },
    {
      "cell_type": "markdown",
      "metadata": {
        "id": "lhokrhsPh2tt"
      },
      "source": [
        "As mentioned earlier, tf can calculate the derivatives for you. This can be done with a `tf.GradientTape` object. This object records the operations of interest to later compute the gradients for:"
      ]
    },
    {
      "cell_type": "code",
      "metadata": {
        "id": "upou0LhbHr8Y",
        "colab": {
          "base_uri": "https://localhost:8080/",
          "height": 265
        },
        "outputId": "1cc90fa0-5e29-4ca4-9a5e-6fbf24afc2f6"
      },
      "source": [
        "x = tf.convert_to_tensor(np.linspace(-3, 3, 200))\n",
        "\n",
        "# The operations we need the gradients for should be enclosed\n",
        "# in a `with` statement with `tf.GradientTape`:\n",
        "with tf.GradientTape() as t:\n",
        "  # specify the tensor we'll derive with respect to\n",
        "  t.watch(x)\n",
        "\n",
        "  # do the actual operation:\n",
        "  y = x**2\n",
        "\n",
        "# get the gradient:\n",
        "y_prime = t.gradient(y, x)\n",
        "\n",
        "import matplotlib.pyplot as plt\n",
        "\n",
        "plt.plot(x, y, label='y=x^2')\n",
        "plt.plot(x, y_prime, label='deriv')\n",
        "plt.legend();"
      ],
      "execution_count": null,
      "outputs": [
        {
          "output_type": "display_data",
          "data": {
            "image/png": "[encoded data removed]",
            "text/plain": [
              "<Figure size 432x288 with 1 Axes>"
            ]
          },
          "metadata": {
            "needs_background": "light"
          }
        }
      ]
    },
    {
      "cell_type": "markdown",
      "metadata": {
        "id": "_pEA6Ippj6ZK"
      },
      "source": [
        "You can nest `tf.GradientTape` contexts to calculate higher order derivatives. Can you figure out the right way to code it?"
      ]
    },
    {
      "cell_type": "code",
      "metadata": {
        "id": "r46cz6bmJDJO",
        "colab": {
          "base_uri": "https://localhost:8080/",
          "height": 265
        },
        "outputId": "1e5f2be5-642d-4dc9-d155-b27833e6459b"
      },
      "source": [
        "x = tf.convert_to_tensor(np.linspace(-3, 3, 200))\n",
        "\n",
        "with tf.GradientTape() as g:\n",
        "  g.watch(x)\n",
        "  with tf.GradientTape() as gg:\n",
        "    gg.watch(x)\n",
        "    y=x**3\n",
        "  y_prime=gg.gradient(y,x)\n",
        "y_prime_prime=g.gradient(y_prime,x)\n",
        "\n",
        "# y = x**3\n",
        "# y_prime - first derivative of y wrt x\n",
        "# y_prime_prime - second derivative of y wrt x\n",
        "\n",
        "plt.plot(x, y, label='y=x^3')\n",
        "plt.plot(x, y_prime, label='deriv')\n",
        "plt.plot(x, y_prime_prime, label='second deriv')\n",
        "plt.legend();"
      ],
      "execution_count": null,
      "outputs": [
        {
          "output_type": "display_data",
          "data": {
            "image/png": "[encoded data removed]",
            "text/plain": [
              "<Figure size 432x288 with 1 Axes>"
            ]
          },
          "metadata": {
            "needs_background": "light"
          }
        }
      ]
    },
    {
      "cell_type": "markdown",
      "metadata": {
        "id": "qXenc48tLEK3"
      },
      "source": [
        "------------"
      ]
    },
    {
      "cell_type": "markdown",
      "metadata": {
        "id": "B6K2SAJdkQHm"
      },
      "source": [
        "### Example: maximum likelihood fit"
      ]
    },
    {
      "cell_type": "markdown",
      "metadata": {
        "id": "wtzG5hC7SCvY"
      },
      "source": [
        "Let's generate a Gaussian mixture dataset and then fit its parameters with maximum likelihood."
      ]
    },
    {
      "cell_type": "code",
      "metadata": {
        "id": "VSYk9oqZLDvl",
        "colab": {
          "base_uri": "https://localhost:8080/",
          "height": 268
        },
        "outputId": "8ca47004-e9a8-4eb3-86c8-4bbb68f9a35e"
      },
      "source": [
        "X1 = np.random.normal(size=1000, scale=0.3).astype('float32')\n",
        "X2 = np.random.normal(size=2000, loc=5., scale=2.).astype('float32')\n",
        "\n",
        "X = np.concatenate([X1, X2])\n",
        "np.random.shuffle(X)\n",
        "\n",
        "plt.hist(X, bins=200);"
      ],
      "execution_count": null,
      "outputs": [
        {
          "output_type": "display_data",
          "data": {
            "image/png": "[encoded data removed]",
            "text/plain": [
              "<Figure size 432x288 with 1 Axes>"
            ]
          },
          "metadata": {
            "needs_background": "light"
          }
        }
      ]
    },
    {
      "cell_type": "code",
      "metadata": {
        "id": "V0elCyrHLCdN",
        "colab": {
          "base_uri": "https://localhost:8080/",
          "height": 371
        },
        "outputId": "9685bc3f-1855-4eb4-a473-a65ac14044c5"
      },
      "source": [
        "from IPython.display import clear_output\n",
        "\n",
        "# Defining Gaussian PDF using tf functions\n",
        "# use tf.exp for the exponent, don't forget the normalization\n",
        "def gaussian(x, mu, sigma):\n",
        "  pi = tf.constant(np.pi)\n",
        "  x=np.float32(tf.constant(x)/tf.linalg.norm(x))\n",
        "  return (1/(sigma*tf.sqrt(2*pi)))*tf.exp(-0.5*((x-mu)/sigma)**2)\n",
        "  \n",
        "\n",
        "# Arbitrary mixture PDF\n",
        "def mixture(x, f1, f2, alpha):\n",
        "  return alpha * f1(x) + (1. - alpha) * f2(x)\n",
        "\n",
        "# Parameters that we'd like to infer (with an initial guess)\n",
        "m1    = tf.Variable(1.0)\n",
        "m2    = tf.Variable(4.0)\n",
        "s1    = tf.Variable(1.0)\n",
        "s2    = tf.Variable(1.0)\n",
        "alpha = tf.Variable(0.5)\n",
        "\n",
        "# At each gradient update we'll apply this function to\n",
        "# ensure valid parameter values\n",
        "#def apply_constraints():\n",
        "  \n",
        " \n",
        "    \n",
        "\n",
        "               # ensure the sigmas are positive (greater or equal to some small\n",
        "              # positive number, e.g. 1e-5) and alpha is in (0, 1) interval\n",
        "              # hint: use the `assign` method to update the variable values\n",
        "\n",
        "variables = [m1, m2, s1, s2, alpha]\n",
        "\n",
        "# Defining the overall PDF\n",
        "def model_pdf(x):\n",
        "  return mixture(x,\n",
        "                 lambda t: gaussian(t, m1, s1),\n",
        "                 lambda t: gaussian(t, m2, s2),\n",
        "                 alpha)\n",
        "\n",
        "# Log likelihood\n",
        "# hint: the logarithm is in tf.math.log\n",
        "def loglike(x):\n",
        "  pi = tf.constant(np.pi)\n",
        "  x=tf.constant(x)/tf.linalg.norm(x)\n",
        "  l = -tf.math.reduce_sum((tf.math.log(model_pdf(X))),axis=-1)\n",
        "  return l\n",
        "  \n",
        "\n",
        "learning_rate = 0.0001\n",
        "grad_history = [] # to keep track of gradient values at different steps\n",
        "\n",
        "for i in range(3):\n",
        "  with tf.GradientTape() as t:\n",
        "    t.watch(m1)\n",
        "    t.watch(m2)\n",
        "    t.watch(s1)\n",
        "    t.watch(s2)\n",
        "    t.watch(alpha)\n",
        "    # NOTE: if `variable` was created with `trainable=False`, you need to\n",
        "    # manually add it to the tape by calling `t.watch(variable)`. By default\n",
        "    # the variable are created with `trainable=True`\n",
        "\n",
        "    # Forward pass:\n",
        "    l = loglike(X)\n",
        "\n",
        "  # Backprop:\n",
        "  grads = t.gradient(l,variables) # Calculate the gradients\n",
        "  grad_history.append([g.numpy() for g in grads])\n",
        "  m1.assign(m1,m1-learning_rate*grads[0])\n",
        "  m2.assign(m2,m2-learning_rate*grads[1])\n",
        "  s1.assign(s1,s1-learning_rate*grads[2])\n",
        "  s2.assign(s2,s2-learning_rate*grads[3])\n",
        "  alpha.assign(alpha,alpha-learning_rate*grads[4])\n",
        "  print(grads)\n",
        "  # Gradient ascent step:\n",
        "  \n",
        "  \n",
        "  # Apply the gradients manually (add\n",
        "              # `learning_rate * corresponding_gradient` to\n",
        "              # each variable)\n",
        "  #apply_constraints()\n",
        "\n",
        "  ############################\n",
        "  # Do some plotting\n",
        "  plt.figure(figsize=(12, 5))\n",
        "\n",
        "  plt.subplot(1, 2, 1)\n",
        "  plt.hist(X, bins=200, density=True, label='data')\n",
        "  x_grid = np.linspace(-2, 12, 150)\n",
        "  plt.plot(x_grid, model_pdf(x_grid), label='fit')\n",
        "  plt.legend()\n",
        "  plt.xlabel('X')\n",
        "\n",
        "  plt.subplot(1, 2, 2)\n",
        "  lines = plt.plot(np.array(grad_history))\n",
        "  low = min(grad_history[-1])\n",
        "  high = max(grad_history[-1])\n",
        "  plt.ylim(low  - (high - low) * 0.6,\n",
        "           high + (high - low) * 0.6)\n",
        "  plt.legend(lines, ['m1', 'm2', 's1', 's2', 'alpha'])\n",
        "  plt.xlabel('step')\n",
        "  plt.ylabel('gradient')\n",
        "  plt.show()\n",
        "  clear_output(wait=True);\n"
      ],
      "execution_count": null,
      "outputs": [
        {
          "output_type": "stream",
          "name": "stdout",
          "text": [
            "[<tf.Tensor: shape=(), dtype=float32, numpy=2956.7493>, <tf.Tensor: shape=(), dtype=float32, numpy=6.8942876>, <tf.Tensor: shape=(), dtype=float32, numpy=82.042725>, <tf.Tensor: shape=(), dtype=float32, numpy=-25.749245>, <tf.Tensor: shape=(), dtype=float32, numpy=-5993.081>]\n"
          ]
        },
        {
          "output_type": "display_data",
          "data": {
            "image/png": "[encoded data removed]",
            "text/plain": [
              "<Figure size 864x360 with 2 Axes>"
            ]
          },
          "metadata": {
            "needs_background": "light"
          }
        }
      ]
    },
    {
      "cell_type": "markdown",
      "metadata": {
        "id": "-x6oEkxrXFOz"
      },
      "source": [
        "### Example: single hidden layer NN"
      ]
    },
    {
      "cell_type": "markdown",
      "metadata": {
        "id": "XCEb_MThWy-8"
      },
      "source": [
        "For this example we'll try to classify some clothes pictures from the Fashion MNIST dataset. We'll use `tensorflow_datasets` to fetch the data."
      ]
    },
    {
      "cell_type": "code",
      "metadata": {
        "id": "pJsokZJJR87J"
      },
      "source": [
        "import tensorflow_datasets as tfds"
      ],
      "execution_count": null,
      "outputs": []
    },
    {
      "cell_type": "markdown",
      "metadata": {
        "id": "pOu9xFGKemS_"
      },
      "source": [
        "`tf.data.Dataset` is TensorFlow's abstraction for an arbitrary dataset. It allows building complex loading and processing pipelines by sequentially calling dataset transforming functions.\n",
        "\n",
        "In the code below `tfds.load(...)` returns a `tf.data.Dataset` object, from which we want to load everything at once (`prefetch(number_of_elements)`) and store it in memory (`cache()`). These transformations will be exectuted once we start iterating through the data."
      ]
    },
    {
      "cell_type": "code",
      "metadata": {
        "id": "T9bIgzzIXdCH",
        "colab": {
          "base_uri": "https://localhost:8080/",
          "height": 314,
          "referenced_widgets": [
            "c4cb188f13f64c398fc1c17adbdb969d",
            "73783641c18e460bbc22374ab9e1535b",
            "1b9a96a729f547848e5983cb58e2e9fb",
            "fb4b192c7bd34c76b19464d75c32ddef",
            "d06e4cea2a62413e82c45a43897b1a20",
            "f61169413f5c4b6aa5f8a2045f663069",
            "a1d653e4973d470d887619057f8fc786",
            "d64d68f1f9c54605b002dcf78a8c7a5a",
            "f9367ac7a2bb44069e30ed1e65a8c6e4",
            "3c3f4db23a904af495800d94846e2a38",
            "42d2ac987aa240e6bc14b75324d5c57a",
            "53ed5af989da402db8adafa5d09cdaba",
            "1c71038e7b0643b38caff1370bfa9a60",
            "1c65499b69204f3f92edc602064f286c",
            "a7ed15711959410eb351c519eb4c1798",
            "4cbeea702855486faf4fa4dc1aea0864",
            "12ecde1b01324ae8a9f6202d8570debb",
            "aa3fd03df4f14340b941da2ccfdb278d",
            "9761227bba92419d9c6aeb4459b4cf61",
            "45c00e6c42c747fc8bfead6f7f346395",
            "5f3e3bd5783d46fdb486ed6b11f880a6",
            "451916e89fdb4c5c806a398c97b4a60c",
            "78b8957eece14e00ba31d92409f921cf",
            "9f59b6c2662442a0b2a8629478abf41e",
            "9d682a755995494a8d67ab5e09941899",
            "185a91db25b3420d8435cd9af954fc5e",
            "9ad10d3dc2c442858736ba6d1a9fd916",
            "1f70066ca28544f7a929125a1f0ac113",
            "3df7b05dd0654e8cb2842c882b1b442e",
            "e273e861198e46e49a8e2003d60df724",
            "00603da05e774072a2736e60a0036e93",
            "570d545e06ba4934ad868c7208473f4a",
            "ae8784a2f44f462aaf0ece7c267238ce",
            "e94e96f383f7455fa8a8a0d151aa413c",
            "b31569bef68147a8be769a94161c089e",
            "2d19742cdd7f4cc89684b90fde866853",
            "8bd7224b10de406f8d118000a50cef99",
            "df76e8254ea14054834279cc06c0cdf2",
            "dfbad8433224456dbfa57848d0c0e6a7",
            "86d71a66d76d448e9bf90d9c3fea560f",
            "6c05bb42fd4d4b829ef51e0ded894536",
            "54d4becd9642400386b3973927a0cc9f",
            "d0454a3124794960937fc8d1076ec145",
            "009ab6f54a9e421fb02360c1e858d14c",
            "5d345cf1fd0e48dc9b8c9a7e4bc7a399",
            "66cbe37170354ea9916662bc713bc6a0",
            "befc36d3ef26474a897defdc41a00a0c",
            "d3296e43dff24304a127c9d9b881be0a",
            "9cb43d09deae4464abca8240785da38a",
            "8d0353116c414c398a247ee4d3d22a53",
            "2847b8a0074a42c0909cf2f9e6d2dc7c",
            "ef0ae55009884c9fb556236458bda89b",
            "d4c51e969f824134a879f20a65b2afbf",
            "588f8bb90d7a4d53bc1ac1e8f4b4b8df",
            "ff37fe05ae9545bd9a9b6e6539eadd6e",
            "6f28386135cc4f3cadb10803ff23f947",
            "f970ef7884754ed6b5387c77f05ba1e2",
            "16cc89a46b2e45289f5f63f983904a47",
            "e1c73f401aa046459c3ece872a5e05bb",
            "7e80444deff24451bec9fb8c4424e89e",
            "6129a8daf8114852999d7f1e96a0a0df",
            "51edabc430c941a9be61b80bb18d6073",
            "1d681b9c2f3148ef84129eb51fc4a84b",
            "227f4c7fb3b346f6a81c4a4fd8e7551e",
            "707d0f30d6e54c43819c11c779e27cd8",
            "92993ae3fbb64e24b206251aebe3b147",
            "15b58b3ec0a440a8ab86fac0fd427811",
            "004bae8f855645fa8ee1f0ae86584440",
            "9f33d688fe9344eaa169eac0ceca7bf5",
            "1d36085c8c924a889664e890daa68c13",
            "17588c059b754069b16f96da69c84119",
            "cbfe478eaa2146af94d9517d62bb3627",
            "ac68e9c218c849d89350937066c84d77",
            "1d1e72cb7d654ca09535110d983b26a3",
            "bcd9930f6da341409e319a7d3fc16ec5",
            "2a8efd25531d4698bc8085165a03f0c0",
            "534f4996b1644da49f4d61b855119e82"
          ]
        },
        "outputId": "d5c1d70f-7c7d-445f-b4f6-8197a6fd2f25"
      },
      "source": [
        "data_train = tfds.load(name=\"fashion_mnist\", split=\"train\").prefetch(60000).cache()\n",
        "data_test  = tfds.load(name=\"fashion_mnist\", split=\"test\" ).prefetch(10000).cache()"
      ],
      "execution_count": null,
      "outputs": [
        {
          "output_type": "stream",
          "name": "stdout",
          "text": [
            "\u001b[1mDownloading and preparing dataset fashion_mnist/3.0.1 (download: 29.45 MiB, generated: 36.42 MiB, total: 65.87 MiB) to /root/tensorflow_datasets/fashion_mnist/3.0.1...\u001b[0m\n"
          ]
        },
        {
          "output_type": "display_data",
          "data": {
            "application/vnd.jupyter.widget-view+json": {
              "model_id": "c4cb188f13f64c398fc1c17adbdb969d",
              "version_minor": 0,
              "version_major": 2
            },
            "text/plain": [
              "Dl Completed...: 0 url [00:00, ? url/s]"
            ]
          },
          "metadata": {}
        },
        {
          "output_type": "display_data",
          "data": {
            "application/vnd.jupyter.widget-view+json": {
              "model_id": "53ed5af989da402db8adafa5d09cdaba",
              "version_minor": 0,
              "version_major": 2
            },
            "text/plain": [
              "Dl Size...: 0 MiB [00:00, ? MiB/s]"
            ]
          },
          "metadata": {}
        },
        {
          "output_type": "display_data",
          "data": {
            "application/vnd.jupyter.widget-view+json": {
              "model_id": "78b8957eece14e00ba31d92409f921cf",
              "version_minor": 0,
              "version_major": 2
            },
            "text/plain": [
              "Extraction completed...: 0 file [00:00, ? file/s]"
            ]
          },
          "metadata": {}
        },
        {
          "output_type": "stream",
          "name": "stdout",
          "text": [
            "\n",
            "\n",
            "\n"
          ]
        },
        {
          "output_type": "display_data",
          "data": {
            "application/vnd.jupyter.widget-view+json": {
              "model_id": "e94e96f383f7455fa8a8a0d151aa413c",
              "version_minor": 0,
              "version_major": 2
            },
            "text/plain": [
              "0 examples [00:00, ? examples/s]"
            ]
          },
          "metadata": {}
        },
        {
          "output_type": "stream",
          "name": "stdout",
          "text": [
            "Shuffling and writing examples to /root/tensorflow_datasets/fashion_mnist/3.0.1.incomplete7ZCDH4/fashion_mnist-train.tfrecord\n"
          ]
        },
        {
          "output_type": "display_data",
          "data": {
            "application/vnd.jupyter.widget-view+json": {
              "model_id": "5d345cf1fd0e48dc9b8c9a7e4bc7a399",
              "version_minor": 0,
              "version_major": 2
            },
            "text/plain": [
              "  0%|          | 0/60000 [00:00<?, ? examples/s]"
            ]
          },
          "metadata": {}
        },
        {
          "output_type": "display_data",
          "data": {
            "application/vnd.jupyter.widget-view+json": {
              "model_id": "6f28386135cc4f3cadb10803ff23f947",
              "version_minor": 0,
              "version_major": 2
            },
            "text/plain": [
              "0 examples [00:00, ? examples/s]"
            ]
          },
          "metadata": {}
        },
        {
          "output_type": "stream",
          "name": "stdout",
          "text": [
            "Shuffling and writing examples to /root/tensorflow_datasets/fashion_mnist/3.0.1.incomplete7ZCDH4/fashion_mnist-test.tfrecord\n"
          ]
        },
        {
          "output_type": "display_data",
          "data": {
            "application/vnd.jupyter.widget-view+json": {
              "model_id": "15b58b3ec0a440a8ab86fac0fd427811",
              "version_minor": 0,
              "version_major": 2
            },
            "text/plain": [
              "  0%|          | 0/10000 [00:00<?, ? examples/s]"
            ]
          },
          "metadata": {}
        },
        {
          "output_type": "stream",
          "name": "stdout",
          "text": [
            "\u001b[1mDataset fashion_mnist downloaded and prepared to /root/tensorflow_datasets/fashion_mnist/3.0.1. Subsequent calls will reuse this data.\u001b[0m\n"
          ]
        }
      ]
    },
    {
      "cell_type": "markdown",
      "metadata": {
        "id": "F6abnNGR9vc6"
      },
      "source": [
        "Let's have a look at the data format:"
      ]
    },
    {
      "cell_type": "code",
      "metadata": {
        "id": "eJCeSxa_Xx54",
        "colab": {
          "base_uri": "https://localhost:8080/"
        },
        "outputId": "53d0dddb-461e-4ddb-b979-936e1c985a3c"
      },
      "source": [
        "print(data_train)\n",
        "print(data_test)"
      ],
      "execution_count": null,
      "outputs": [
        {
          "output_type": "stream",
          "name": "stdout",
          "text": [
            "<CacheDataset shapes: {image: (28, 28, 1), label: ()}, types: {image: tf.uint8, label: tf.int64}>\n",
            "<CacheDataset shapes: {image: (28, 28, 1), label: ()}, types: {image: tf.uint8, label: tf.int64}>\n"
          ]
        }
      ]
    },
    {
      "cell_type": "markdown",
      "metadata": {
        "id": "ISlZK6v3969I"
      },
      "source": [
        "So we have images of shape 28 by 28 with a single channel and scalar labels."
      ]
    },
    {
      "cell_type": "markdown",
      "metadata": {
        "id": "XUi5i71q-Fgb"
      },
      "source": [
        "Now let's just plot some of the training samples."
      ]
    },
    {
      "cell_type": "code",
      "metadata": {
        "id": "jEdmjANRX9lh",
        "colab": {
          "base_uri": "https://localhost:8080/",
          "height": 407
        },
        "outputId": "180ef97e-ccf7-4080-970e-c261ef621482"
      },
      "source": [
        "# Array for decoding the categories\n",
        "label_names = np.array(['T-shirt/top',\n",
        "                        'Trouser',\n",
        "                        'Pullover',\n",
        "                        'Dress',\n",
        "                        'Coat',\n",
        "                        'Sandal',\n",
        "                        'Shirt',\n",
        "                        'Sneaker',\n",
        "                        'Bag',\n",
        "                        'Ankle boot'])\n",
        "\n",
        "# Get a single data batch of 25 images\n",
        "sample_data = next(iter(data_train.batch(25)))\n",
        "sample_images = sample_data['image']\n",
        "sample_labels = sample_data['label']\n",
        "\n",
        "# Plot the images in a 5x5 grid\n",
        "plt.figure(figsize=(5, 5))\n",
        "plt.imshow(\n",
        "    sample_images.numpy().reshape(5, 5, 28, 28).transpose((0, 2, 1, 3)).reshape(140, 140),\n",
        "    cmap='gray'\n",
        ")\n",
        "# Print corresponding labels\n",
        "print(label_names[sample_labels.numpy().reshape(5, 5)])"
      ],
      "execution_count": null,
      "outputs": [
        {
          "output_type": "stream",
          "name": "stdout",
          "text": [
            "[['Pullover' 'Trouser' 'Bag' 'Coat' 'Trouser']\n",
            " ['Ankle boot' 'Pullover' 'Pullover' 'T-shirt/top' 'Pullover']\n",
            " ['Shirt' 'Ankle boot' 'T-shirt/top' 'Sneaker' 'Sandal']\n",
            " ['Coat' 'T-shirt/top' 'Trouser' 'Bag' 'T-shirt/top']\n",
            " ['Coat' 'Pullover' 'Shirt' 'Sneaker' 'T-shirt/top']]\n"
          ]
        },
        {
          "output_type": "display_data",
          "data": {
            "image/png": "[encoded data removed]",
            "text/plain": [
              "<Figure size 360x360 with 1 Axes>"
            ]
          },
          "metadata": {
            "needs_background": "light"
          }
        }
      ]
    },
    {
      "cell_type": "markdown",
      "metadata": {
        "id": "y_J-RJFE-ojh"
      },
      "source": [
        "Now that we have some idea about the dataset, we are going to define our model. Since we are working with the low-level API, we are going to define all the calculations explicitly. Therefore, we need to explicitly define all the parameters of our model:"
      ]
    },
    {
      "cell_type": "code",
      "metadata": {
        "id": "1UJbpPG3ZTFR"
      },
      "source": [
        "num_hidden = 64\n",
        "\n",
        "# Weights and biases of our model.\n",
        "# We'll use He initializtion for weights and zero-initialized biases.\n",
        "w1 = tf.Variable(\n",
        "    np.random.normal(size=(28**2, num_hidden)) * np.sqrt(2. / 28**2),\n",
        "    dtype='float32'\n",
        ")\n",
        "b1 = tf.Variable(np.zeros(shape=(num_hidden,)), dtype='float32')\n",
        "\n",
        "w2 = tf.Variable(\n",
        "    np.random.normal(size=(num_hidden, 10)) * np.sqrt(2. / num_hidden),\n",
        "    dtype='float32'\n",
        ")\n",
        "b2 = tf.Variable(np.zeros(shape=(10,)), dtype='float32')\n",
        "\n",
        "variables = [w1, b1, w2, b2]"
      ],
      "execution_count": null,
      "outputs": []
    },
    {
      "cell_type": "markdown",
      "metadata": {
        "id": "p5ZryRsH_IJb"
      },
      "source": [
        "Now the model itself:"
      ]
    },
    {
      "cell_type": "code",
      "metadata": {
        "id": "7SwZxto9kLce"
      },
      "source": [
        "# Main function of our model.\n",
        "# Given the input images it will return the predicted class probabilites\n",
        "def model(X):\n",
        "  # preprocess the data first\n",
        "  X = tf.reshape((X / 255), (X.shape[0], 28**2))\n",
        "\n",
        "  # First layer\n",
        "  activations1 = tf.nn.relu(tf.matmul(X,w1)+b1) \n",
        "  # use tf.nn.relu activation\n",
        "\n",
        "  # Second layer\n",
        "  probs = tf.nn.softmax(tf.matmul(activations1,w2)+b2)\n",
        "  # use tf.nn.softmax activation\n",
        "  return probs\n",
        "\n",
        "# The forward pass: calculate the loss value from a given data batch.\n",
        "def forward(input_batch):\n",
        "  # preprocessing\n",
        "  X = input_batch['image']\n",
        "  y = input_batch['label']\n",
        "  y = tf.reshape(y, (y.shape[0], 1))\n",
        "\n",
        "  probs = model(X)\n",
        "\n",
        "  # Calculate the loss.\n",
        "  cross_entropy_loss = -tf.reduce_mean(tf.math.log(tf.gather_nd(probs, y, batch_dims=1)))\n",
        "    # Hint: tf.gather_nd(probs, y, batch_dims=1) will collect the probabilities of true classes\n",
        "\n",
        "  return cross_entropy_loss"
      ],
      "execution_count": null,
      "outputs": []
    },
    {
      "cell_type": "markdown",
      "metadata": {
        "id": "1amLLLq8Aztb"
      },
      "source": [
        "Now we'll code the main training loop."
      ]
    },
    {
      "cell_type": "code",
      "metadata": {
        "id": "uHI7QOIKw1CK",
        "colab": {
          "base_uri": "https://localhost:8080/",
          "height": 262
        },
        "outputId": "18d86505-4ce8-4eaf-8b94-3982e6f5f41f"
      },
      "source": [
        "from tqdm import tqdm # a nice tool to track the progress of a loop\n",
        "import sys\n",
        "\n",
        "# In earlier examples we updated the variables manually.\n",
        "# Actually, a set of ready-to-use tools, called optimizers,\n",
        "# has already been implemented for us.\n",
        "# Here we'll use the Adam optimizer which is a clever\n",
        "# modification of simple stochastic gradient descent.\n",
        "optimizer = tf.optimizers.Adam()\n",
        "batch_size = 1024\n",
        "\n",
        "num_epochs = 20\n",
        "\n",
        "# variables to keep track of the training history\n",
        "train_losses = []\n",
        "test_losses = []\n",
        "\n",
        "# training loop\n",
        "for i_epoch in range(num_epochs):\n",
        "  print(\"Working on epoch #{}\".format(i_epoch))\n",
        "  sys.stdout.flush() # This is to make sure no output is buffered when tqdm is called\n",
        "\n",
        "\n",
        "  # training part\n",
        "  epoch_train_loss = 0\n",
        "  train_samples = 0\n",
        "  for batch in tqdm(data_train.shuffle(60000).batch(batch_size)):\n",
        "    with tf.GradientTape() as t:\n",
        "      loss = forward(batch)\n",
        "    num_samples = len(batch['label'])\n",
        "    epoch_train_loss += loss.numpy() * num_samples\n",
        "    train_samples += num_samples\n",
        "\n",
        "    grads = t.gradient(loss,variables)\n",
        "    optimizer.apply_gradients(zip(grads, variables))\n",
        "  \n",
        "  train_losses.append(epoch_train_loss / train_samples)\n",
        "\n",
        "  # evaluation part\n",
        "  epoch_test_loss = 0\n",
        "  test_samples = 0\n",
        "  for batch in data_test.batch(4096):\n",
        "    epoch_test_loss += forward(batch).numpy() * len(batch['label'])\n",
        "    test_samples += len(batch['label'])\n",
        "  \n",
        "  test_losses.append(epoch_test_loss / test_samples)\n",
        "\n",
        "  # printout and plotting part\n",
        "  clear_output(wait=True)\n",
        "  print(\"Epoch #{}, train loss: {}, test loss: {}\".format(\n",
        "      i_epoch, train_losses[-1], test_losses[-1]\n",
        "  ))\n",
        "  plt.plot(train_losses, label='train')\n",
        "  plt.plot(test_losses , label='test')\n",
        "  plt.xlabel('epoch')\n",
        "  plt.ylabel('loss')\n",
        "  plt.legend()\n",
        "  plt.show()"
      ],
      "execution_count": null,
      "outputs": [
        {
          "output_type": "stream",
          "name": "stdout",
          "text": [
            "Working on epoch #0\n"
          ]
        },
        {
          "output_type": "stream",
          "name": "stderr",
          "text": [
            "100%|██████████| 59/59 [00:01<00:00, 46.30it/s]\n"
          ]
        },
        {
          "output_type": "error",
          "ename": "NameError",
          "evalue": "ignored",
          "traceback": [
            "\u001b[0;31m---------------------------------------------------------------------------\u001b[0m",
            "\u001b[0;31mNameError\u001b[0m                                 Traceback (most recent call last)",
            "\u001b[0;32m<ipython-input-16-ae66dd758340>\u001b[0m in \u001b[0;36m<module>\u001b[0;34m()\u001b[0m\n\u001b[1;32m     47\u001b[0m \u001b[0;34m\u001b[0m\u001b[0m\n\u001b[1;32m     48\u001b[0m   \u001b[0;31m# printout and plotting part\u001b[0m\u001b[0;34m\u001b[0m\u001b[0;34m\u001b[0m\u001b[0;34m\u001b[0m\u001b[0m\n\u001b[0;32m---> 49\u001b[0;31m   \u001b[0mclear_output\u001b[0m\u001b[0;34m(\u001b[0m\u001b[0mwait\u001b[0m\u001b[0;34m=\u001b[0m\u001b[0;32mTrue\u001b[0m\u001b[0;34m)\u001b[0m\u001b[0;34m\u001b[0m\u001b[0;34m\u001b[0m\u001b[0m\n\u001b[0m\u001b[1;32m     50\u001b[0m   print(\"Epoch #{}, train loss: {}, test loss: {}\".format(\n\u001b[1;32m     51\u001b[0m       \u001b[0mi_epoch\u001b[0m\u001b[0;34m,\u001b[0m \u001b[0mtrain_losses\u001b[0m\u001b[0;34m[\u001b[0m\u001b[0;34m-\u001b[0m\u001b[0;36m1\u001b[0m\u001b[0;34m]\u001b[0m\u001b[0;34m,\u001b[0m \u001b[0mtest_losses\u001b[0m\u001b[0;34m[\u001b[0m\u001b[0;34m-\u001b[0m\u001b[0;36m1\u001b[0m\u001b[0;34m]\u001b[0m\u001b[0;34m\u001b[0m\u001b[0;34m\u001b[0m\u001b[0m\n",
            "\u001b[0;31mNameError\u001b[0m: name 'clear_output' is not defined"
          ]
        }
      ]
    },
    {
      "cell_type": "markdown",
      "metadata": {
        "id": "6v5iSeluCqOg"
      },
      "source": [
        "Let's check the accuracy of our model."
      ]
    },
    {
      "cell_type": "code",
      "metadata": {
        "id": "Vcpu6ES4uewr"
      },
      "source": [
        "########################################################\n",
        "# Extract the data from the dataset into a numpy array\n",
        "X_batches = []\n",
        "y_batches = []\n",
        "for batch in data_test.batch(4096):\n",
        "  X_batches.append(batch['image'].numpy().astype('float32'))\n",
        "  y_batches.append(batch['label'].numpy())\n",
        "\n",
        "X_test = np.concatenate(X_batches)\n",
        "y_test = np.concatenate(y_batches)"
      ],
      "execution_count": null,
      "outputs": []
    },
    {
      "cell_type": "code",
      "metadata": {
        "id": "0rUj8RJySTe3"
      },
      "source": [
        "def check_accuracy(model):\n",
        "  return print((model(X_test).numpy().argmax(axis=1)==y_test).mean())\n",
        "  # print out the models accuracy on X_test, y_test"
      ],
      "execution_count": null,
      "outputs": []
    },
    {
      "cell_type": "code",
      "metadata": {
        "id": "uwLuTmpETUGO"
      },
      "source": [
        "check_accuracy(model)"
      ],
      "execution_count": null,
      "outputs": []
    },
    {
      "cell_type": "markdown",
      "metadata": {
        "id": "Yh1V2oHjC_GA"
      },
      "source": [
        "Not too bad. Let's have a look at the wrongly classified objects."
      ]
    },
    {
      "cell_type": "code",
      "metadata": {
        "id": "PuaFeuyixse3"
      },
      "source": [
        "predictions = model(X_test).numpy().argmax(axis=1)\n",
        "wrong = predictions != y_test\n",
        "print(\"True labels:\")\n",
        "print(label_names[y_test[wrong][:9].reshape(3, 3)])\n",
        "print(\"Predicted labels:\")\n",
        "print(label_names[predictions[wrong][:9].reshape(3, 3)])\n",
        "\n",
        "plt.imshow(\n",
        "  X_test[wrong][:9].reshape(3, 3, 28, 28).transpose(0, 2, 1, 3).reshape(28*3, 28*3)\n",
        ");"
      ],
      "execution_count": null,
      "outputs": []
    },
    {
      "cell_type": "markdown",
      "metadata": {
        "id": "43kv6MF9zYdz"
      },
      "source": [
        "## High-level API (keras)"
      ]
    },
    {
      "cell_type": "markdown",
      "metadata": {
        "id": "6tczZKMcW9Pu"
      },
      "source": [
        "### Intro"
      ]
    },
    {
      "cell_type": "markdown",
      "metadata": {
        "id": "xLxccpYfDXj0"
      },
      "source": [
        "*Quote from https://www.tensorflow.org/guide/keras (see this page for links to mode detailed tutorials):*\n",
        "\n",
        "> TensorFlow’s high-level APIs are based on the Keras API standard for defining and training neural networks. Keras enables fast prototyping, state-of-the-art research, and production—all with user-friendly APIs."
      ]
    },
    {
      "cell_type": "markdown",
      "metadata": {
        "id": "gcPYljSpOIPH"
      },
      "source": [
        "Simple feed-forward models with single route from input to output can be built with the `tf.keras.Sequential` model:"
      ]
    },
    {
      "cell_type": "code",
      "metadata": {
        "id": "EwziTkDzzb5n"
      },
      "source": [
        "model = tf.keras.Sequential([\n",
        "  # First layer will do the preprocessing and reshaping of the data (typically\n",
        "  # you want to do this step beforehand, outside of the model, in order to\n",
        "  # improve the performance)\n",
        "  tf.keras.layers.Lambda(\n",
        "      lambda x: tf.reshape(x / 255., (-1, 28*28)),\n",
        "      input_shape=(28, 28, 1), name='preprocessing'\n",
        "  ),\n",
        "\n",
        "  # Densely connected hidden layer\n",
        "  tf.keras.layers.Dense(num_hidden, activation='relu'),\n",
        "\n",
        "  # Output layer (note there's no activation, not even softmax:\n",
        "  # this layer will output logits, there are pre-implemented\n",
        "  # loss functions in `keras` to work with such outputs)\n",
        "  tf.keras.layers.Dense(10)\n",
        "])"
      ],
      "execution_count": null,
      "outputs": []
    },
    {
      "cell_type": "markdown",
      "metadata": {
        "id": "YgXQSuhqPkyx"
      },
      "source": [
        "Once your model is built you can print its summary:"
      ]
    },
    {
      "cell_type": "code",
      "metadata": {
        "id": "WNKnVeQ3_lul",
        "colab": {
          "base_uri": "https://localhost:8080/"
        },
        "outputId": "c3d78992-a8a0-469e-d7da-fde4a70c81e9"
      },
      "source": [
        "model.summary()"
      ],
      "execution_count": null,
      "outputs": [
        {
          "output_type": "stream",
          "name": "stdout",
          "text": [
            "Model: \"sequential\"\n",
            "_________________________________________________________________\n",
            "Layer (type)                 Output Shape              Param #   \n",
            "=================================================================\n",
            "preprocessing (Lambda)       (None, 784)               0         \n",
            "_________________________________________________________________\n",
            "dense (Dense)                (None, 64)                50240     \n",
            "_________________________________________________________________\n",
            "dense_1 (Dense)              (None, 10)                650       \n",
            "=================================================================\n",
            "Total params: 50,890\n",
            "Trainable params: 50,890\n",
            "Non-trainable params: 0\n",
            "_________________________________________________________________\n"
          ]
        }
      ]
    },
    {
      "cell_type": "markdown",
      "metadata": {
        "id": "l7keIrkBPrEY"
      },
      "source": [
        "Keras models can be easily saved and restored. Here's how to save it to hdf5 format:"
      ]
    },
    {
      "cell_type": "code",
      "metadata": {
        "id": "38D_jMo-FyxY"
      },
      "source": [
        "model.save('untrained_model.h5', save_format='h5')"
      ],
      "execution_count": null,
      "outputs": []
    },
    {
      "cell_type": "markdown",
      "metadata": {
        "id": "F0j2RY4mP3K-"
      },
      "source": [
        "Keras models can be used as functions along with the low-level TensorFlow API, such that you can build a fine-tuned training procedure for your needs. However, most of the supervised learning processes fall into the same routine that has been conveniently pre-implemented in `keras`. In order to use it you want to \"compile\" your model. That is, assign it an optimizer, a loss function and optionally some validation metrics:"
      ]
    },
    {
      "cell_type": "code",
      "metadata": {
        "id": "4yRhMgFE38R4"
      },
      "source": [
        "model.compile(optimizer='adam',\n",
        "              loss=tf.losses.SparseCategoricalCrossentropy(from_logits=True))"
      ],
      "execution_count": null,
      "outputs": []
    },
    {
      "cell_type": "markdown",
      "metadata": {
        "id": "gu_Ar6NQQ5cU"
      },
      "source": [
        "Once the model is compiled, you can run the training loop using the `fit` method (alternatively, `fit_generator`, see the docs for more info), which can work with different data formats, including tensorflow datasets.\n",
        "\n",
        "Since our dataset is structured (it has inputs and targets labeled with the 'image' and 'label' keys), we want to convert it to a dataset of tuples `(input, target)`. We'll do that with the `tf.data.Dataset.map` method and the following convertion function:"
      ]
    },
    {
      "cell_type": "code",
      "metadata": {
        "id": "T0vvlCG6y3J-"
      },
      "source": [
        "def unwrap(x):\n",
        "  return (x['image'], x['label'])"
      ],
      "execution_count": null,
      "outputs": []
    },
    {
      "cell_type": "markdown",
      "metadata": {
        "id": "RjAfI5O8SKBc"
      },
      "source": [
        "And finally run the training procedure:"
      ]
    },
    {
      "cell_type": "code",
      "metadata": {
        "id": "gCmvLnea5Hhs",
        "colab": {
          "base_uri": "https://localhost:8080/"
        },
        "outputId": "45583a1e-b3d3-475f-d7ba-a3016b0421f3"
      },
      "source": [
        "model.fit(x=data_train.map(unwrap).shuffle(60000).batch(batch_size),\n",
        "          epochs=10,\n",
        "          validation_data=data_test.map(unwrap).batch(4096))"
      ],
      "execution_count": null,
      "outputs": [
        {
          "output_type": "stream",
          "name": "stdout",
          "text": [
            "Epoch 1/10\n",
            "59/59 [==============================] - 1s 8ms/step - loss: 0.9660 - val_loss: 0.6281\n",
            "Epoch 2/10\n",
            "59/59 [==============================] - 0s 6ms/step - loss: 0.5558 - val_loss: 0.5378\n",
            "Epoch 3/10\n",
            "59/59 [==============================] - 0s 6ms/step - loss: 0.4911 - val_loss: 0.4945\n",
            "Epoch 4/10\n",
            "59/59 [==============================] - 0s 6ms/step - loss: 0.4541 - val_loss: 0.4674\n",
            "Epoch 5/10\n",
            "59/59 [==============================] - 0s 6ms/step - loss: 0.4306 - val_loss: 0.4522\n",
            "Epoch 6/10\n",
            "59/59 [==============================] - 0s 6ms/step - loss: 0.4119 - val_loss: 0.4355\n",
            "Epoch 7/10\n",
            "59/59 [==============================] - 0s 6ms/step - loss: 0.3993 - val_loss: 0.4295\n",
            "Epoch 8/10\n",
            "59/59 [==============================] - 0s 5ms/step - loss: 0.3850 - val_loss: 0.4190\n",
            "Epoch 9/10\n",
            "59/59 [==============================] - 0s 6ms/step - loss: 0.3758 - val_loss: 0.4134\n",
            "Epoch 10/10\n",
            "59/59 [==============================] - 0s 6ms/step - loss: 0.3668 - val_loss: 0.4071\n"
          ]
        },
        {
          "output_type": "execute_result",
          "data": {
            "text/plain": [
              "<keras.callbacks.History at 0x7f03ae558610>"
            ]
          },
          "metadata": {},
          "execution_count": 21
        }
      ]
    },
    {
      "cell_type": "markdown",
      "metadata": {
        "id": "bScmIgggSOTj"
      },
      "source": [
        "Let's save the trained model:"
      ]
    },
    {
      "cell_type": "code",
      "metadata": {
        "id": "DgHUuuz2GfaN"
      },
      "source": [
        "model.save('trained_model.h5', save_format='h5')"
      ],
      "execution_count": null,
      "outputs": []
    },
    {
      "cell_type": "markdown",
      "metadata": {
        "id": "yPwvQN3_SdBq"
      },
      "source": [
        "We can now check the accuracy of the model. Let's compare it before and after the training by loading the saved weights:"
      ]
    },
    {
      "cell_type": "code",
      "metadata": {
        "id": "7hd8K9hQ6PU7",
        "colab": {
          "base_uri": "https://localhost:8080/",
          "height": 438
        },
        "outputId": "dd940f4b-5bd7-47a7-9873-340d301dd58a"
      },
      "source": [
        "model.load_weights('untrained_model.h5')\n",
        "check_accuracy(model)"
      ],
      "execution_count": null,
      "outputs": [
        {
          "output_type": "error",
          "ename": "OSError",
          "evalue": "ignored",
          "traceback": [
            "\u001b[0;31m---------------------------------------------------------------------------\u001b[0m",
            "\u001b[0;31mOSError\u001b[0m                                   Traceback (most recent call last)",
            "\u001b[0;32m<ipython-input-22-dee9b1612a76>\u001b[0m in \u001b[0;36m<module>\u001b[0;34m()\u001b[0m\n\u001b[0;32m----> 1\u001b[0;31m \u001b[0mmodel\u001b[0m\u001b[0;34m.\u001b[0m\u001b[0mload_weights\u001b[0m\u001b[0;34m(\u001b[0m\u001b[0;34m'untrained_model.h5'\u001b[0m\u001b[0;34m)\u001b[0m\u001b[0;34m\u001b[0m\u001b[0;34m\u001b[0m\u001b[0m\n\u001b[0m\u001b[1;32m      2\u001b[0m \u001b[0mcheck_accuracy\u001b[0m\u001b[0;34m(\u001b[0m\u001b[0mmodel\u001b[0m\u001b[0;34m)\u001b[0m\u001b[0;34m\u001b[0m\u001b[0;34m\u001b[0m\u001b[0m\n",
            "\u001b[0;32m/usr/local/lib/python3.7/dist-packages/keras/engine/training.py\u001b[0m in \u001b[0;36mload_weights\u001b[0;34m(self, filepath, by_name, skip_mismatch, options)\u001b[0m\n\u001b[1;32m   2352\u001b[0m             'first, then load the weights.')\n\u001b[1;32m   2353\u001b[0m       \u001b[0mself\u001b[0m\u001b[0;34m.\u001b[0m\u001b[0m_assert_weights_created\u001b[0m\u001b[0;34m(\u001b[0m\u001b[0;34m)\u001b[0m\u001b[0;34m\u001b[0m\u001b[0;34m\u001b[0m\u001b[0m\n\u001b[0;32m-> 2354\u001b[0;31m       \u001b[0;32mwith\u001b[0m \u001b[0mh5py\u001b[0m\u001b[0;34m.\u001b[0m\u001b[0mFile\u001b[0m\u001b[0;34m(\u001b[0m\u001b[0mfilepath\u001b[0m\u001b[0;34m,\u001b[0m \u001b[0;34m'r'\u001b[0m\u001b[0;34m)\u001b[0m \u001b[0;32mas\u001b[0m \u001b[0mf\u001b[0m\u001b[0;34m:\u001b[0m\u001b[0;34m\u001b[0m\u001b[0;34m\u001b[0m\u001b[0m\n\u001b[0m\u001b[1;32m   2355\u001b[0m         \u001b[0;32mif\u001b[0m \u001b[0;34m'layer_names'\u001b[0m \u001b[0;32mnot\u001b[0m \u001b[0;32min\u001b[0m \u001b[0mf\u001b[0m\u001b[0;34m.\u001b[0m\u001b[0mattrs\u001b[0m \u001b[0;32mand\u001b[0m \u001b[0;34m'model_weights'\u001b[0m \u001b[0;32min\u001b[0m \u001b[0mf\u001b[0m\u001b[0;34m:\u001b[0m\u001b[0;34m\u001b[0m\u001b[0;34m\u001b[0m\u001b[0m\n\u001b[1;32m   2356\u001b[0m           \u001b[0mf\u001b[0m \u001b[0;34m=\u001b[0m \u001b[0mf\u001b[0m\u001b[0;34m[\u001b[0m\u001b[0;34m'model_weights'\u001b[0m\u001b[0;34m]\u001b[0m\u001b[0;34m\u001b[0m\u001b[0;34m\u001b[0m\u001b[0m\n",
            "\u001b[0;32m/usr/local/lib/python3.7/dist-packages/h5py/_hl/files.py\u001b[0m in \u001b[0;36m__init__\u001b[0;34m(self, name, mode, driver, libver, userblock_size, swmr, rdcc_nslots, rdcc_nbytes, rdcc_w0, track_order, fs_strategy, fs_persist, fs_threshold, **kwds)\u001b[0m\n\u001b[1;32m    425\u001b[0m                                fapl, fcpl=make_fcpl(track_order=track_order, fs_strategy=fs_strategy,\n\u001b[1;32m    426\u001b[0m                                fs_persist=fs_persist, fs_threshold=fs_threshold),\n\u001b[0;32m--> 427\u001b[0;31m                                swmr=swmr)\n\u001b[0m\u001b[1;32m    428\u001b[0m \u001b[0;34m\u001b[0m\u001b[0m\n\u001b[1;32m    429\u001b[0m             \u001b[0;32mif\u001b[0m \u001b[0misinstance\u001b[0m\u001b[0;34m(\u001b[0m\u001b[0mlibver\u001b[0m\u001b[0;34m,\u001b[0m \u001b[0mtuple\u001b[0m\u001b[0;34m)\u001b[0m\u001b[0;34m:\u001b[0m\u001b[0;34m\u001b[0m\u001b[0;34m\u001b[0m\u001b[0m\n",
            "\u001b[0;32m/usr/local/lib/python3.7/dist-packages/h5py/_hl/files.py\u001b[0m in \u001b[0;36mmake_fid\u001b[0;34m(name, mode, userblock_size, fapl, fcpl, swmr)\u001b[0m\n\u001b[1;32m    188\u001b[0m         \u001b[0;32mif\u001b[0m \u001b[0mswmr\u001b[0m \u001b[0;32mand\u001b[0m \u001b[0mswmr_support\u001b[0m\u001b[0;34m:\u001b[0m\u001b[0;34m\u001b[0m\u001b[0;34m\u001b[0m\u001b[0m\n\u001b[1;32m    189\u001b[0m             \u001b[0mflags\u001b[0m \u001b[0;34m|=\u001b[0m \u001b[0mh5f\u001b[0m\u001b[0;34m.\u001b[0m\u001b[0mACC_SWMR_READ\u001b[0m\u001b[0;34m\u001b[0m\u001b[0;34m\u001b[0m\u001b[0m\n\u001b[0;32m--> 190\u001b[0;31m         \u001b[0mfid\u001b[0m \u001b[0;34m=\u001b[0m \u001b[0mh5f\u001b[0m\u001b[0;34m.\u001b[0m\u001b[0mopen\u001b[0m\u001b[0;34m(\u001b[0m\u001b[0mname\u001b[0m\u001b[0;34m,\u001b[0m \u001b[0mflags\u001b[0m\u001b[0;34m,\u001b[0m \u001b[0mfapl\u001b[0m\u001b[0;34m=\u001b[0m\u001b[0mfapl\u001b[0m\u001b[0;34m)\u001b[0m\u001b[0;34m\u001b[0m\u001b[0;34m\u001b[0m\u001b[0m\n\u001b[0m\u001b[1;32m    191\u001b[0m     \u001b[0;32melif\u001b[0m \u001b[0mmode\u001b[0m \u001b[0;34m==\u001b[0m \u001b[0;34m'r+'\u001b[0m\u001b[0;34m:\u001b[0m\u001b[0;34m\u001b[0m\u001b[0;34m\u001b[0m\u001b[0m\n\u001b[1;32m    192\u001b[0m         \u001b[0mfid\u001b[0m \u001b[0;34m=\u001b[0m \u001b[0mh5f\u001b[0m\u001b[0;34m.\u001b[0m\u001b[0mopen\u001b[0m\u001b[0;34m(\u001b[0m\u001b[0mname\u001b[0m\u001b[0;34m,\u001b[0m \u001b[0mh5f\u001b[0m\u001b[0;34m.\u001b[0m\u001b[0mACC_RDWR\u001b[0m\u001b[0;34m,\u001b[0m \u001b[0mfapl\u001b[0m\u001b[0;34m=\u001b[0m\u001b[0mfapl\u001b[0m\u001b[0;34m)\u001b[0m\u001b[0;34m\u001b[0m\u001b[0;34m\u001b[0m\u001b[0m\n",
            "\u001b[0;32mh5py/_objects.pyx\u001b[0m in \u001b[0;36mh5py._objects.with_phil.wrapper\u001b[0;34m()\u001b[0m\n",
            "\u001b[0;32mh5py/_objects.pyx\u001b[0m in \u001b[0;36mh5py._objects.with_phil.wrapper\u001b[0;34m()\u001b[0m\n",
            "\u001b[0;32mh5py/h5f.pyx\u001b[0m in \u001b[0;36mh5py.h5f.open\u001b[0;34m()\u001b[0m\n",
            "\u001b[0;31mOSError\u001b[0m: Unable to open file (unable to open file: name = 'untrained_model.h5', errno = 2, error message = 'No such file or directory', flags = 0, o_flags = 0)"
          ]
        }
      ]
    },
    {
      "cell_type": "code",
      "metadata": {
        "id": "ftkZnR2T61MA"
      },
      "source": [
        "model.load_weights('trained_model.h5')\n",
        "check_accuracy(model)"
      ],
      "execution_count": null,
      "outputs": []
    },
    {
      "cell_type": "markdown",
      "metadata": {
        "id": "YLdU5reWUMub"
      },
      "source": [
        "Note that we were saving not just the weights, but the entire model (with the computation graph). This means we can load the entire model without having to specify it's architecture:"
      ]
    },
    {
      "cell_type": "code",
      "metadata": {
        "id": "VrJBm2ZgMIq-"
      },
      "source": [
        "check_accuracy(tf.keras.models.load_model('trained_model.h5'))"
      ],
      "execution_count": null,
      "outputs": []
    },
    {
      "cell_type": "markdown",
      "metadata": {
        "id": "V63F0QyFXDp0"
      },
      "source": [
        "### Validation metrics and callbacks"
      ]
    },
    {
      "cell_type": "markdown",
      "metadata": {
        "id": "I5-uuQkAUfpM"
      },
      "source": [
        "Now, let's get back to the untrained state of our model and add some more useful tools to the training process. Earlier we mentined that you can add validation metrics to you model. Here's how its done:"
      ]
    },
    {
      "cell_type": "code",
      "metadata": {
        "id": "Q5AKPulMJ1pA"
      },
      "source": [
        "model.load_weights('untrained_model.h5')\n",
        "model.compile(optimizer='adam',\n",
        "              loss=tf.losses.SparseCategoricalCrossentropy(from_logits=True),\n",
        "              metrics=[tf.metrics.SparseCategoricalAccuracy()])"
      ],
      "execution_count": null,
      "outputs": []
    },
    {
      "cell_type": "markdown",
      "metadata": {
        "id": "svy8EBgvUy10"
      },
      "source": [
        "Another useful thing is keras callbacks - these are function objects to be called at specific events (e.g. at end of batch or epoch processing, etc.).\n",
        "\n",
        "One of such callbacks can automatically save our model:"
      ]
    },
    {
      "cell_type": "code",
      "metadata": {
        "id": "J4a0qXuP2jAV"
      },
      "source": [
        "# This callback will save the model every epoch:\n",
        "saver1 = tf.keras.callbacks.ModelCheckpoint(filepath='model_epoch_{epoch:02d}.h5',\n",
        "                                            save_freq='epoch')\n",
        "\n",
        "# This one will save only the best model based on the validation metric (accuracy):\n",
        "saver2 = tf.keras.callbacks.ModelCheckpoint(filepath='model_best.h5',\n",
        "                                            monitor='val_sparse_categorical_accuracy',\n",
        "                                            save_best_only=True)\n",
        "\n",
        "# We need to provide these callbacks to the `callbacks` argument of the `fit` method:\n",
        "model.fit(x=data_train.map(unwrap).shuffle(60000).batch(batch_size),\n",
        "          epochs=30,\n",
        "          validation_data=data_test.map(unwrap).batch(4096),\n",
        "          callbacks=[saver1, saver2])"
      ],
      "execution_count": null,
      "outputs": []
    },
    {
      "cell_type": "code",
      "metadata": {
        "id": "KgWcYo8bNk6R"
      },
      "source": [
        "loaded_model = tf.keras.models.load_model('model_best.h5')\n",
        "predictions = loaded_model(X_test).numpy().argmax(axis=1)\n",
        "print(\"Test accuracy is:\", (predictions == y_test).mean())"
      ],
      "execution_count": null,
      "outputs": []
    },
    {
      "cell_type": "markdown",
      "metadata": {
        "id": "ARTAPmYVXLBl"
      },
      "source": [
        "### Training history"
      ]
    },
    {
      "cell_type": "markdown",
      "metadata": {
        "id": "t-WtTWdcVwYJ"
      },
      "source": [
        "After the `fit` method was called, a history object is attached to the model. This can be used to check how various metrics behaved during the training process:"
      ]
    },
    {
      "cell_type": "code",
      "metadata": {
        "id": "DYWBTsBUOnif",
        "colab": {
          "base_uri": "https://localhost:8080/",
          "height": 477
        },
        "outputId": "0f772b3e-e11d-4873-9427-66b871a2dbae"
      },
      "source": [
        "plt.plot(model.history.history['loss']    , label='train_loss')\n",
        "plt.plot(model.history.history['val_loss'], label='test_loss')\n",
        "\n",
        "plt.plot(model.history.history['sparse_categorical_accuracy'    ], label='train accuracy')\n",
        "plt.plot(model.history.history['val_sparse_categorical_accuracy'], label='test accuracy')\n",
        "plt.xlabel('epoch')\n",
        "plt.ylabel('cross entropy / test accuracy')\n",
        "plt.legend();"
      ],
      "execution_count": null,
      "outputs": [
        {
          "output_type": "error",
          "ename": "KeyError",
          "evalue": "ignored",
          "traceback": [
            "\u001b[0;31m---------------------------------------------------------------------------\u001b[0m",
            "\u001b[0;31mKeyError\u001b[0m                                  Traceback (most recent call last)",
            "\u001b[0;32m<ipython-input-23-23008d17bcbf>\u001b[0m in \u001b[0;36m<module>\u001b[0;34m()\u001b[0m\n\u001b[1;32m      2\u001b[0m \u001b[0mplt\u001b[0m\u001b[0;34m.\u001b[0m\u001b[0mplot\u001b[0m\u001b[0;34m(\u001b[0m\u001b[0mmodel\u001b[0m\u001b[0;34m.\u001b[0m\u001b[0mhistory\u001b[0m\u001b[0;34m.\u001b[0m\u001b[0mhistory\u001b[0m\u001b[0;34m[\u001b[0m\u001b[0;34m'val_loss'\u001b[0m\u001b[0;34m]\u001b[0m\u001b[0;34m,\u001b[0m \u001b[0mlabel\u001b[0m\u001b[0;34m=\u001b[0m\u001b[0;34m'test_loss'\u001b[0m\u001b[0;34m)\u001b[0m\u001b[0;34m\u001b[0m\u001b[0;34m\u001b[0m\u001b[0m\n\u001b[1;32m      3\u001b[0m \u001b[0;34m\u001b[0m\u001b[0m\n\u001b[0;32m----> 4\u001b[0;31m \u001b[0mplt\u001b[0m\u001b[0;34m.\u001b[0m\u001b[0mplot\u001b[0m\u001b[0;34m(\u001b[0m\u001b[0mmodel\u001b[0m\u001b[0;34m.\u001b[0m\u001b[0mhistory\u001b[0m\u001b[0;34m.\u001b[0m\u001b[0mhistory\u001b[0m\u001b[0;34m[\u001b[0m\u001b[0;34m'sparse_categorical_accuracy'\u001b[0m    \u001b[0;34m]\u001b[0m\u001b[0;34m,\u001b[0m \u001b[0mlabel\u001b[0m\u001b[0;34m=\u001b[0m\u001b[0;34m'train accuracy'\u001b[0m\u001b[0;34m)\u001b[0m\u001b[0;34m\u001b[0m\u001b[0;34m\u001b[0m\u001b[0m\n\u001b[0m\u001b[1;32m      5\u001b[0m \u001b[0mplt\u001b[0m\u001b[0;34m.\u001b[0m\u001b[0mplot\u001b[0m\u001b[0;34m(\u001b[0m\u001b[0mmodel\u001b[0m\u001b[0;34m.\u001b[0m\u001b[0mhistory\u001b[0m\u001b[0;34m.\u001b[0m\u001b[0mhistory\u001b[0m\u001b[0;34m[\u001b[0m\u001b[0;34m'val_sparse_categorical_accuracy'\u001b[0m\u001b[0;34m]\u001b[0m\u001b[0;34m,\u001b[0m \u001b[0mlabel\u001b[0m\u001b[0;34m=\u001b[0m\u001b[0;34m'test accuracy'\u001b[0m\u001b[0;34m)\u001b[0m\u001b[0;34m\u001b[0m\u001b[0;34m\u001b[0m\u001b[0m\n\u001b[1;32m      6\u001b[0m \u001b[0mplt\u001b[0m\u001b[0;34m.\u001b[0m\u001b[0mxlabel\u001b[0m\u001b[0;34m(\u001b[0m\u001b[0;34m'epoch'\u001b[0m\u001b[0;34m)\u001b[0m\u001b[0;34m\u001b[0m\u001b[0;34m\u001b[0m\u001b[0m\n",
            "\u001b[0;31mKeyError\u001b[0m: 'sparse_categorical_accuracy'"
          ]
        },
        {
          "output_type": "display_data",
          "data": {
            "image/png": "[encoded data removed]",
            "text/plain": [
              "<Figure size 432x288 with 1 Axes>"
            ]
          },
          "metadata": {
            "needs_background": "light"
          }
        }
      ]
    },
    {
      "cell_type": "markdown",
      "metadata": {
        "id": "YVTJv73lXP5j"
      },
      "source": [
        "## Miscellaneous: hidden layer activations / ideal ankle boot"
      ]
    },
    {
      "cell_type": "markdown",
      "metadata": {
        "id": "XNAIAr4pWfEI"
      },
      "source": [
        "Now let's have a look at what features are being extracted by the hidden layer of the best model."
      ]
    },
    {
      "cell_type": "code",
      "metadata": {
        "id": "jDEQuAXhK-e1"
      },
      "source": [
        "model = tf.keras.models.load_model('model_best.h5')"
      ],
      "execution_count": null,
      "outputs": []
    },
    {
      "cell_type": "code",
      "metadata": {
        "id": "E1ioKHu2R2OR"
      },
      "source": [
        "plt.figure(figsize=(10, 10))\n",
        "hidden_weights = model.layers[1].weights[0].numpy()\n",
        "hidden_weights /= (hidden_weights**2).sum(axis=0)**0.5\n",
        "\n",
        "plt.imshow(hidden_weights.T.reshape(8, 8, 28, 28).transpose(0, 2, 1, 3).reshape(28*8, 28*8), cmap='gray');"
      ],
      "execution_count": null,
      "outputs": []
    },
    {
      "cell_type": "markdown",
      "metadata": {
        "id": "blEwK6juhgmi"
      },
      "source": [
        "Here we create a random image and then optimize it to maximize the prediction for a given category:"
      ]
    },
    {
      "cell_type": "code",
      "metadata": {
        "id": "EN4siAa9ZLfu"
      },
      "source": [
        "import time"
      ],
      "execution_count": null,
      "outputs": []
    },
    {
      "cell_type": "code",
      "metadata": {
        "id": "hEqilWphWdPd"
      },
      "source": [
        "img = tf.Variable(np.random.normal(size=(1, 28*28)), dtype='float32')\n",
        "category = 9\n",
        "\n",
        "# Category legend:\n",
        "# 0 - 'T-shirt/top',\n",
        "# 1 - 'Trouser',\n",
        "# 2 - 'Pullover',\n",
        "# 3 - 'Dress',\n",
        "# 4 - 'Coat',\n",
        "# 5 - 'Sandal',\n",
        "# 6 - 'Shirt',\n",
        "# 7 - 'Sneaker',\n",
        "# 8 - 'Bag',\n",
        "# 9 - 'Ankle boot'\n",
        "\n",
        "for i in range(1000):\n",
        "  with tf.GradientTape() as t:\n",
        "    predictions = model.layers[2](model.layers[1](img))\n",
        "    score = tf.reduce_min(predictions[:,category:category+1] - \n",
        "                          tf.concat([predictions[:,:category],\n",
        "                                     predictions[:,category+1:]], axis=1),\n",
        "                          axis=1)\n",
        "\n",
        "  grads = t.gradient(score, img)\n",
        "  img.assign_add(0.01 * grads)\n",
        "  img.assign(img - tf.reduce_min(img, keepdims=True))\n",
        "  img.assign(img / tf.reduce_max(img))\n",
        "\n",
        "  if i % 100 == 0:\n",
        "    clear_output(wait=True)\n",
        "    plt.imshow(img.numpy().reshape(28, 28), cmap='gray');\n",
        "    plt.show();\n",
        "    time.sleep(0.2)\n",
        "  "
      ],
      "execution_count": null,
      "outputs": []
    },
    {
      "cell_type": "code",
      "metadata": {
        "id": "6-mZGsl_X0Oy"
      },
      "source": [
        "img = (255 * img.numpy())\n",
        "\n",
        "model(img.reshape(1, 28, 28))"
      ],
      "execution_count": null,
      "outputs": []
    },
    {
      "cell_type": "markdown",
      "metadata": {
        "id": "3RvUvGgGrkzv"
      },
      "source": [
        "## Exercise"
      ]
    },
    {
      "cell_type": "markdown",
      "metadata": {
        "id": "hXYu5ujhrowp"
      },
      "source": [
        "### Ex. 1"
      ]
    },
    {
      "cell_type": "markdown",
      "metadata": {
        "id": "FCujyYCdrrrg"
      },
      "source": [
        "Move the preprocessing part out of the model into the dataset pipeline (using the `map` method)."
      ]
    },
    {
      "cell_type": "code",
      "metadata": {
        "id": "_gIkK_1Gr-mY"
      },
      "source": [
        ""
      ],
      "execution_count": null,
      "outputs": []
    },
    {
      "cell_type": "markdown",
      "metadata": {
        "id": "LYp5xgozr0GG"
      },
      "source": [
        "### Ex. 2"
      ]
    },
    {
      "cell_type": "markdown",
      "metadata": {
        "id": "R_kVluKKr2uM"
      },
      "source": [
        "Train a model with more layers."
      ]
    },
    {
      "cell_type": "code",
      "metadata": {
        "id": "KxRpoyi_rnnL"
      },
      "source": [
        ""
      ],
      "execution_count": null,
      "outputs": []
    },
    {
      "cell_type": "markdown",
      "metadata": {
        "id": "1kUYwTIxr_XX"
      },
      "source": [
        "### Ex. 3*"
      ]
    },
    {
      "cell_type": "markdown",
      "metadata": {
        "id": "4d22MrR2sBFE"
      },
      "source": [
        "Train a model which is an average of two models with different numbers of layers.\n",
        "You can:\n",
        " - either use low-level API for that (still using `tf.keras.Sequential` models as building blocks)\n",
        " - or use `tf.keras.Model` for an arbitrary model (see the very first example from https://www.tensorflow.org/api_docs/python/tf/keras/Model)"
      ]
    },
    {
      "cell_type": "code",
      "metadata": {
        "id": "wLUIX7ozsAfG"
      },
      "source": [
        ""
      ],
      "execution_count": null,
      "outputs": []
    }
  ]
}